{
 "cells": [
  {
   "cell_type": "code",
   "execution_count": 1,
   "metadata": {},
   "outputs": [],
   "source": [
    "import numpy as np"
   ]
  },
  {
   "cell_type": "code",
   "execution_count": 2,
   "metadata": {},
   "outputs": [],
   "source": [
    "X = 2*np.random.rand(100, 1)\n",
    "y = 4 + 3*X"
   ]
  },
  {
   "cell_type": "code",
   "execution_count": 3,
   "metadata": {},
   "outputs": [],
   "source": [
    "N = X.shape[0]\n",
    "ones = np.ones((N, 1))\n",
    "X_bar = np.concatenate((ones, X), axis = 1)"
   ]
  },
  {
   "cell_type": "code",
   "execution_count": 1,
   "metadata": {},
   "outputs": [],
   "source": [
    "def loss(y, y_hat):\n",
    "    N = np.shape(y)[0]\n",
    "    return np.sum(np.power(y_hat - y, 2)) / (2 * N)"
   ]
  },
  {
   "cell_type": "code",
   "execution_count": null,
   "metadata": {},
   "outputs": [],
   "source": [
    "def sigmod(x):\n",
    "    return 1/(1+np.exp(-x))"
   ]
  },
  {
   "cell_type": "code",
   "execution_count": 5,
   "metadata": {},
   "outputs": [
    {
     "data": {
      "text/plain": [
       "array([[3.54661799],\n",
       "       [3.37282219]])"
      ]
     },
     "execution_count": 5,
     "metadata": {},
     "output_type": "execute_result"
    }
   ],
   "source": [
    "def GD(X, y, learning_rate = 0.0001, iterations= 1000):\n",
    "    N, m = np.shape(X)\n",
    "    W_nit = np.random.randn(m, 1)\n",
    "    W = [W_nit]\n",
    "    loss_his = np.zeros(iterations)\n",
    "    for iteration in range(iterations):\n",
    "        y_hat = np.dot(X, W[-1])\n",
    "        _loss = loss(y, y_hat)\n",
    "        W_new = W[-1] - learning_rate*np.dot(X.T, y_hat-y)\n",
    "        W.append(W_new)\n",
    "        loss_his[iteration] = _loss\n",
    "        if np.linalg.norm(W[-2]-W[-1]) < 1e-3:\n",
    "            break\n",
    "    \n",
    "    return W[-1], loss_his\n",
    "\n",
    "W, loss_history = GD(X_bar, y)\n",
    "    \n",
    "W   "
   ]
  },
  {
   "cell_type": "code",
   "execution_count": 6,
   "metadata": {},
   "outputs": [
    {
     "data": {
      "text/plain": [
       "array([[3.10366836],\n",
       "       [3.49736024]])"
      ]
     },
     "execution_count": 6,
     "metadata": {},
     "output_type": "execute_result"
    }
   ],
   "source": [
    "def SGD(X, y, learning_rate = 0.01, iterations= 1000):\n",
    "    N, m = np.shape(X)\n",
    "    W_nit = np.random.randn(m, 1)\n",
    "    W = [W_nit]\n",
    "    loss_his = np.zeros(iterations)\n",
    "    for iteration in range(iterations):\n",
    "        _loss = 0.0\n",
    "        for index, x in enumerate(X):\n",
    "            x_i = x.reshape(1, -1)\n",
    "            y_i = y[index]\n",
    "            y_hat = np.dot(x_i, W[-1])\n",
    "            _loss += loss(y_i, y_hat)\n",
    "            W_new = W[-1] - learning_rate * np.dot(x_i.T, (y_hat - y_i))\n",
    "        W.append(W_new)\n",
    "        \n",
    "        loss_his[iteration] = _loss\n",
    "        if np.linalg.norm(W[-2]-W[-1]) < 1e-3:\n",
    "            break\n",
    "    \n",
    "    return W[-1], loss_his\n",
    "\n",
    "W, loss_history = SGD(X_bar, y)\n",
    "W"
   ]
  },
  {
   "cell_type": "code",
   "execution_count": 7,
   "metadata": {},
   "outputs": [
    {
     "data": {
      "text/plain": [
       "array([[3.96470238],\n",
       "       [3.02942979]])"
      ]
     },
     "execution_count": 7,
     "metadata": {},
     "output_type": "execute_result"
    }
   ],
   "source": [
    "def get_batchs(X, y, batch_size):\n",
    "    for i in range(0, len(X), batch_size):\n",
    "        x_batch = X[i:i +batch_size]\n",
    "        y_batch = y[i:i+batch_size]\n",
    "        yield x_batch, y_batch\n",
    "        \n",
    "def mini_batch(X, y, learning_rate=0.01, iterations=100, batch_size=28):\n",
    "    N, m = np.shape(X)\n",
    "    W_init = np.random.randn(m, 1)\n",
    "    W = [W_init]\n",
    "    loss_his = np.zeros(iterations)\n",
    "    for i in range(iterations):\n",
    "        _loss = 0.0\n",
    "        for x_batch, y_batch in get_batchs(X, y, batch_size):\n",
    "            y_hat = np.dot(x_batch, W[-1])\n",
    "            _loss += loss(y_batch, y_hat)\n",
    "            W_new = W[-1] - learning_rate * np.dot(x_batch.T, (y_hat - y_batch))\n",
    "        \n",
    "        W.append(W_new) \n",
    "        loss_his[i] = _loss\n",
    "        if np.linalg.norm(W[-2] - W[-1]) < 1e-3:\n",
    "            break   \n",
    "    return W[-1], loss_history\n",
    "\n",
    "W, loss_history = mini_batch(X_bar, y)\n",
    "W"
   ]
  },
  {
   "cell_type": "code",
   "execution_count": null,
   "metadata": {},
   "outputs": [],
   "source": []
  }
 ],
 "metadata": {
  "kernelspec": {
   "display_name": "Python 3",
   "language": "python",
   "name": "python3"
  },
  "language_info": {
   "codemirror_mode": {
    "name": "ipython",
    "version": 3
   },
   "file_extension": ".py",
   "mimetype": "text/x-python",
   "name": "python",
   "nbconvert_exporter": "python",
   "pygments_lexer": "ipython3",
   "version": "3.7.6"
  }
 },
 "nbformat": 4,
 "nbformat_minor": 4
}
