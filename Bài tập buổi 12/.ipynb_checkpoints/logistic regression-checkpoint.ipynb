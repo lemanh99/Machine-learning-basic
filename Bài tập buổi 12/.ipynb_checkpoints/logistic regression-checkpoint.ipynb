{
 "cells": [
  {
   "cell_type": "code",
   "execution_count": 1,
   "metadata": {},
   "outputs": [],
   "source": [
    "import numpy as np\n",
    "import matplotlib.pyplot as plt"
   ]
  },
  {
   "cell_type": "code",
   "execution_count": null,
   "metadata": {},
   "outputs": [],
   "source": [
    "def sigmoid(x):\n",
    "    return 1/(1 + np.exp(-x))"
   ]
  },
  {
   "cell_type": "code",
   "execution_count": 3,
   "metadata": {},
   "outputs": [],
   "source": [
    "def loss(y, y_hat):\n",
    "    N = np.shape(y)[0]\n",
    "    return np.sum(np.power(y_hat - y, 2)) / (2 * N)"
   ]
  },
  {
   "cell_type": "code",
   "execution_count": 4,
   "metadata": {},
   "outputs": [],
   "source": [
    "def hypothesis(X, W):\n",
    "    return sigmoid(np.dot(X, W))"
   ]
  },
  {
   "cell_type": "code",
   "execution_count": 5,
   "metadata": {},
   "outputs": [
    {
     "data": {
      "text/plain": [
       "array([[2.51443499],\n",
       "       [3.51966672]])"
      ]
     },
     "execution_count": 5,
     "metadata": {},
     "output_type": "execute_result"
    }
   ],
   "source": [
    "def GD(X, y, learning_rate=0.0001, iterations=100):\n",
    "    N, m = np.shape(X)\n",
    "    W_init = np.random.randn(m, 1)\n",
    "    W = [W_init]\n",
    "    loss_history = np.zeros(iterations)\n",
    "    for i in range(iterations):\n",
    "        y_hat = hypothesis(X, W[-1])\n",
    "        _loss = loss(y, y_hat)\n",
    "        W_new = W[-1] - learning_rate * np.dot(X.T, (y_hat - y))\n",
    "        W.append(W_new)\n",
    "        loss_history[i] = _loss\n",
    "        if np.linalg.norm(W[-2] - W[-1]) < 1e-3:\n",
    "            break\n",
    "    return W[-1], loss_history\n",
    "\n",
    "N = X.shape[0]\n",
    "ones = np.ones((N, 1))\n",
    "X_bar = np.concatenate((ones, X), axis=1)\n",
    "W, loss_history = GD(X_bar, y)\n",
    "\n",
    "# plt.plot(range(len(loss_history)), loss_history, 'b.')\n",
    "W[-1]"
   ]
  },
  {
   "cell_type": "markdown",
   "metadata": {},
   "source": [
    "## SGD"
   ]
  },
  {
   "cell_type": "code",
   "execution_count": 22,
   "metadata": {},
   "outputs": [
    {
     "data": {
      "text/plain": [
       "array([[1.89411246],\n",
       "       [4.11359939]])"
      ]
     },
     "execution_count": 22,
     "metadata": {},
     "output_type": "execute_result"
    }
   ],
   "source": [
    "def SGD(X, y, learning_rate=0.01, iterations=100):\n",
    "    N, m = np.shape(X)\n",
    "    W_init = np.random.randn(m, 1)\n",
    "    W = [W_init]\n",
    "    loss_history = np.zeros(iterations)\n",
    "    for i in range(iterations):\n",
    "        _loss = 0.0\n",
    "        # epoch\n",
    "        for index, x in enumerate(X):\n",
    "            x_i = x.reshape(1, -1)\n",
    "            y_i = y[index]\n",
    "            y_hat = hypothesis(x_i, W[-1])\n",
    "            _loss += loss(y_i, y_hat)\n",
    "            W_new = W[-1] - learning_rate * np.dot(x_i.T, (y_hat - y_i))\n",
    "            \n",
    "        W.append(W_new)\n",
    "        loss_history[i] = _loss\n",
    "        if np.linalg.norm(W[-1] - W[-2]) < 1e-3:\n",
    "            break\n",
    "    return W[-1], loss_history\n",
    "\n",
    "W, loss_history = SGD(X_bar, y)\n",
    "W[-1]\n",
    "# plt.plot(range(len(loss_history)), loss_history, 'b.')"
   ]
  },
  {
   "cell_type": "markdown",
   "metadata": {},
   "source": [
    "## Mini-batch"
   ]
  },
  {
   "cell_type": "code",
   "execution_count": 23,
   "metadata": {},
   "outputs": [
    {
     "data": {
      "text/plain": [
       "array([[3.91302778],\n",
       "       [3.06658212]])"
      ]
     },
     "execution_count": 23,
     "metadata": {},
     "output_type": "execute_result"
    }
   ],
   "source": [
    "def get_batchs(X, y, batch_size):\n",
    "    for i in range(0, len(X), batch_size):\n",
    "        x_batch = X[i:i+batch_size]\n",
    "        y_batch = y[i:i+batch_size]\n",
    "        yield x_batch, y_batch\n",
    "    \n",
    "    \n",
    "def Mini_batch(X, y, learning_rate=0.01, iterations=100, batch_size=28):\n",
    "    N, m = np.shape(X)\n",
    "    W_init = np.random.randn(m, 1)\n",
    "    W = [W_init]\n",
    "    loss_history = np.zeros(iterations)\n",
    "    for i in range(iterations):\n",
    "        _loss = 0.0\n",
    "        # epoch\n",
    "        for x_batch, y_batch in get_batchs(X, y, batch_size):\n",
    "            y_hat = hypothesis(x_batch, W[-1])\n",
    "            _loss += loss(y_batch, y_hat)\n",
    "            W_new = W[-1] - learning_rate * np.dot(x_batch.T, (y_hat - y_batch))\n",
    "        \n",
    "        W.append(W_new) \n",
    "        loss_history[i] = _loss\n",
    "        if np.linalg.norm(W[-2] - W[-1]) < 1e-3:\n",
    "            break   \n",
    "    return W[-1], loss_history\n",
    "\n",
    "W, loss_history = Mini_batch(X_bar, y)\n",
    "W[-1]\n",
    "# plt.plot(range(len(loss_history)), loss_history, 'b.')"
   ]
  }
 ],
 "metadata": {
  "kernelspec": {
   "display_name": "Python 3",
   "language": "python",
   "name": "python3"
  },
  "language_info": {
   "codemirror_mode": {
    "name": "ipython",
    "version": 3
   },
   "file_extension": ".py",
   "mimetype": "text/x-python",
   "name": "python",
   "nbconvert_exporter": "python",
   "pygments_lexer": "ipython3",
   "version": "3.7.6"
  }
 },
 "nbformat": 4,
 "nbformat_minor": 4
}
