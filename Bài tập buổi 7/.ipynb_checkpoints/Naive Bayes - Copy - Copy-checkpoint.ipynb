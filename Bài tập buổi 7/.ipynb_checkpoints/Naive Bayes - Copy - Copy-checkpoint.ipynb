{
 "cells": [
  {
   "cell_type": "code",
   "execution_count": 1,
   "metadata": {},
   "outputs": [],
   "source": [
    "import numpy as np\n",
    "import pandas as pd\n",
    "from sklearn.impute import SimpleImputer\n",
    "from sklearn.preprocessing import LabelEncoder, OneHotEncoder, MinMaxScaler, StandardScaler\n",
    "from category_encoders import CountEncoder\n",
    "from sklearn.naive_bayes import GaussianNB, MultinomialNB, BernoulliNB\n",
    "from sklearn.metrics import accuracy_score"
   ]
  },
  {
   "cell_type": "code",
   "execution_count": 2,
   "metadata": {},
   "outputs": [
    {
     "data": {
      "text/plain": [
       "age                  0\n",
       "workclass         1268\n",
       "fnlwgt               0\n",
       "education            0\n",
       "education.num        0\n",
       "marital.status       0\n",
       "occupation        1273\n",
       "relationship         0\n",
       "race                 0\n",
       "sex                  0\n",
       "capital.gain         0\n",
       "capital.loss         0\n",
       "hours.per.week       0\n",
       "native.country     427\n",
       "income               0\n",
       "dtype: int64"
      ]
     },
     "execution_count": 2,
     "metadata": {},
     "output_type": "execute_result"
    }
   ],
   "source": [
    "train_df = pd.read_csv('train.csv', na_values = '?')\n",
    "train_df.isnull().sum()"
   ]
  },
  {
   "cell_type": "code",
   "execution_count": 3,
   "metadata": {},
   "outputs": [
    {
     "data": {
      "text/plain": [
       "(9769, 15)"
      ]
     },
     "execution_count": 3,
     "metadata": {},
     "output_type": "execute_result"
    }
   ],
   "source": [
    "test_df = pd.read_csv('test.csv', na_values = '?')\n",
    "test_df.isnull().sum()\n",
    "test_df.shape"
   ]
  },
  {
   "cell_type": "code",
   "execution_count": 4,
   "metadata": {},
   "outputs": [],
   "source": [
    "train_df['capital'] = train_df['capital.gain'] - train_df['capital.loss']\n",
    "test_df['capital'] = test_df['capital.gain'] - test_df['capital.loss']"
   ]
  },
  {
   "cell_type": "code",
   "execution_count": 5,
   "metadata": {},
   "outputs": [
    {
     "data": {
      "text/html": [
       "<div>\n",
       "<style scoped>\n",
       "    .dataframe tbody tr th:only-of-type {\n",
       "        vertical-align: middle;\n",
       "    }\n",
       "\n",
       "    .dataframe tbody tr th {\n",
       "        vertical-align: top;\n",
       "    }\n",
       "\n",
       "    .dataframe thead th {\n",
       "        text-align: right;\n",
       "    }\n",
       "</style>\n",
       "<table border=\"1\" class=\"dataframe\">\n",
       "  <thead>\n",
       "    <tr style=\"text-align: right;\">\n",
       "      <th></th>\n",
       "      <th>age</th>\n",
       "      <th>workclass</th>\n",
       "      <th>fnlwgt</th>\n",
       "      <th>education</th>\n",
       "      <th>education.num</th>\n",
       "      <th>marital.status</th>\n",
       "      <th>occupation</th>\n",
       "      <th>relationship</th>\n",
       "      <th>race</th>\n",
       "      <th>sex</th>\n",
       "      <th>capital.gain</th>\n",
       "      <th>capital.loss</th>\n",
       "      <th>hours.per.week</th>\n",
       "      <th>native.country</th>\n",
       "      <th>income</th>\n",
       "      <th>capital</th>\n",
       "    </tr>\n",
       "  </thead>\n",
       "  <tbody>\n",
       "    <tr>\n",
       "      <td>0</td>\n",
       "      <td>58</td>\n",
       "      <td>Private</td>\n",
       "      <td>290661</td>\n",
       "      <td>HS-grad</td>\n",
       "      <td>9</td>\n",
       "      <td>Married-civ-spouse</td>\n",
       "      <td>Craft-repair</td>\n",
       "      <td>Husband</td>\n",
       "      <td>White</td>\n",
       "      <td>Male</td>\n",
       "      <td>0</td>\n",
       "      <td>0</td>\n",
       "      <td>40</td>\n",
       "      <td>United-States</td>\n",
       "      <td>&lt;=50K</td>\n",
       "      <td>0</td>\n",
       "    </tr>\n",
       "    <tr>\n",
       "      <td>1</td>\n",
       "      <td>62</td>\n",
       "      <td>Private</td>\n",
       "      <td>109463</td>\n",
       "      <td>Some-college</td>\n",
       "      <td>10</td>\n",
       "      <td>Separated</td>\n",
       "      <td>Sales</td>\n",
       "      <td>Unmarried</td>\n",
       "      <td>White</td>\n",
       "      <td>Female</td>\n",
       "      <td>0</td>\n",
       "      <td>1617</td>\n",
       "      <td>33</td>\n",
       "      <td>United-States</td>\n",
       "      <td>&lt;=50K</td>\n",
       "      <td>-1617</td>\n",
       "    </tr>\n",
       "    <tr>\n",
       "      <td>2</td>\n",
       "      <td>33</td>\n",
       "      <td>Private</td>\n",
       "      <td>137088</td>\n",
       "      <td>Bachelors</td>\n",
       "      <td>13</td>\n",
       "      <td>Married-civ-spouse</td>\n",
       "      <td>Machine-op-inspct</td>\n",
       "      <td>Husband</td>\n",
       "      <td>Other</td>\n",
       "      <td>Male</td>\n",
       "      <td>0</td>\n",
       "      <td>0</td>\n",
       "      <td>40</td>\n",
       "      <td>Ecuador</td>\n",
       "      <td>&lt;=50K</td>\n",
       "      <td>0</td>\n",
       "    </tr>\n",
       "    <tr>\n",
       "      <td>3</td>\n",
       "      <td>24</td>\n",
       "      <td>Private</td>\n",
       "      <td>117767</td>\n",
       "      <td>Assoc-acdm</td>\n",
       "      <td>12</td>\n",
       "      <td>Never-married</td>\n",
       "      <td>Sales</td>\n",
       "      <td>Own-child</td>\n",
       "      <td>White</td>\n",
       "      <td>Male</td>\n",
       "      <td>0</td>\n",
       "      <td>0</td>\n",
       "      <td>20</td>\n",
       "      <td>United-States</td>\n",
       "      <td>&lt;=50K</td>\n",
       "      <td>0</td>\n",
       "    </tr>\n",
       "    <tr>\n",
       "      <td>4</td>\n",
       "      <td>67</td>\n",
       "      <td>Self-emp-not-inc</td>\n",
       "      <td>431426</td>\n",
       "      <td>HS-grad</td>\n",
       "      <td>9</td>\n",
       "      <td>Married-civ-spouse</td>\n",
       "      <td>Adm-clerical</td>\n",
       "      <td>Wife</td>\n",
       "      <td>White</td>\n",
       "      <td>Female</td>\n",
       "      <td>0</td>\n",
       "      <td>0</td>\n",
       "      <td>2</td>\n",
       "      <td>United-States</td>\n",
       "      <td>&lt;=50K</td>\n",
       "      <td>0</td>\n",
       "    </tr>\n",
       "  </tbody>\n",
       "</table>\n",
       "</div>"
      ],
      "text/plain": [
       "   age         workclass  fnlwgt     education  education.num  \\\n",
       "0   58           Private  290661       HS-grad              9   \n",
       "1   62           Private  109463  Some-college             10   \n",
       "2   33           Private  137088     Bachelors             13   \n",
       "3   24           Private  117767    Assoc-acdm             12   \n",
       "4   67  Self-emp-not-inc  431426       HS-grad              9   \n",
       "\n",
       "       marital.status         occupation relationship   race     sex  \\\n",
       "0  Married-civ-spouse       Craft-repair      Husband  White    Male   \n",
       "1           Separated              Sales    Unmarried  White  Female   \n",
       "2  Married-civ-spouse  Machine-op-inspct      Husband  Other    Male   \n",
       "3       Never-married              Sales    Own-child  White    Male   \n",
       "4  Married-civ-spouse       Adm-clerical         Wife  White  Female   \n",
       "\n",
       "   capital.gain  capital.loss  hours.per.week native.country income  capital  \n",
       "0             0             0              40  United-States  <=50K        0  \n",
       "1             0          1617              33  United-States  <=50K    -1617  \n",
       "2             0             0              40        Ecuador  <=50K        0  \n",
       "3             0             0              20  United-States  <=50K        0  \n",
       "4             0             0               2  United-States  <=50K        0  "
      ]
     },
     "execution_count": 5,
     "metadata": {},
     "output_type": "execute_result"
    }
   ],
   "source": [
    "train_df.head(5)"
   ]
  },
  {
   "cell_type": "code",
   "execution_count": 6,
   "metadata": {},
   "outputs": [
    {
     "data": {
      "text/plain": [
       "Index(['age', 'workclass', 'fnlwgt', 'education', 'education.num',\n",
       "       'marital.status', 'occupation', 'relationship', 'race', 'sex',\n",
       "       'capital.gain', 'capital.loss', 'hours.per.week', 'native.country',\n",
       "       'income', 'capital'],\n",
       "      dtype='object')"
      ]
     },
     "execution_count": 6,
     "metadata": {},
     "output_type": "execute_result"
    }
   ],
   "source": [
    "train_df.columns"
   ]
  },
  {
   "cell_type": "code",
   "execution_count": 7,
   "metadata": {},
   "outputs": [],
   "source": [
    "feature_columns = ['age', 'workclass', 'fnlwgt', 'education', 'education.num',\n",
    "       'marital.status', 'occupation', 'relationship', 'race', 'sex',\n",
    "       'capital.gain', 'capital.loss', 'hours.per.week', 'native.country', 'capital']\n",
    "label_columns = 'income'"
   ]
  },
  {
   "cell_type": "code",
   "execution_count": 8,
   "metadata": {},
   "outputs": [],
   "source": [
    "X_train = train_df.loc[:, feature_columns].values\n",
    "y_train = train_df.loc[:, label_columns].values\n",
    "\n",
    "X_test = test_df.loc[:, feature_columns].values\n",
    "y_test = test_df.loc[:, label_columns].values"
   ]
  },
  {
   "cell_type": "markdown",
   "metadata": {},
   "source": [
    "## Missing Value"
   ]
  },
  {
   "cell_type": "code",
   "execution_count": 9,
   "metadata": {},
   "outputs": [],
   "source": [
    "def MissingValue(X, y):\n",
    "    workclass_imputer = SimpleImputer(np.nan, strategy = 'most_frequent')\n",
    "    X[:, 1] = workclass_imputer.fit_transform(X[:, 1].reshape(-1, 1)).ravel()\n",
    "    \n",
    "    occupation_imputer = SimpleImputer(np.nan, strategy = 'most_frequent')\n",
    "    X[:, 6] = occupation_imputer.fit_transform(X[:, 1].reshape(-1, 1)).ravel()\n",
    "    \n",
    "    country_imputer = SimpleImputer(np.nan, strategy = 'most_frequent')\n",
    "    X[:, 13] = country_imputer.fit_transform(X[:, 13].reshape(-1, 1)).ravel()\n",
    "    return X, y\n",
    "\n"
   ]
  },
  {
   "cell_type": "code",
   "execution_count": 10,
   "metadata": {},
   "outputs": [],
   "source": [
    "X_train, y_train = MissingValue(X_train, y_train)\n",
    "X_test, y_test = MissingValue(X_test, y_test)"
   ]
  },
  {
   "cell_type": "code",
   "execution_count": 11,
   "metadata": {},
   "outputs": [
    {
     "data": {
      "text/plain": [
       "0     0\n",
       "1     0\n",
       "2     0\n",
       "3     0\n",
       "4     0\n",
       "5     0\n",
       "6     0\n",
       "7     0\n",
       "8     0\n",
       "9     0\n",
       "10    0\n",
       "11    0\n",
       "12    0\n",
       "13    0\n",
       "14    0\n",
       "dtype: int64"
      ]
     },
     "execution_count": 11,
     "metadata": {},
     "output_type": "execute_result"
    }
   ],
   "source": [
    "train_dataset = pd.DataFrame.from_records(X_train)\n",
    "train_dataset.isnull().sum()"
   ]
  },
  {
   "cell_type": "code",
   "execution_count": 12,
   "metadata": {},
   "outputs": [
    {
     "data": {
      "text/plain": [
       "0     0\n",
       "1     0\n",
       "2     0\n",
       "3     0\n",
       "4     0\n",
       "5     0\n",
       "6     0\n",
       "7     0\n",
       "8     0\n",
       "9     0\n",
       "10    0\n",
       "11    0\n",
       "12    0\n",
       "13    0\n",
       "14    0\n",
       "dtype: int64"
      ]
     },
     "execution_count": 12,
     "metadata": {},
     "output_type": "execute_result"
    }
   ],
   "source": [
    "test_dataset = pd.DataFrame.from_records(X_test)\n",
    "test_dataset.isnull().sum()"
   ]
  },
  {
   "cell_type": "markdown",
   "metadata": {},
   "source": [
    "## Chuẩn hóa dữ liệu"
   ]
  },
  {
   "cell_type": "code",
   "execution_count": 13,
   "metadata": {},
   "outputs": [
    {
     "data": {
      "text/html": [
       "<div>\n",
       "<style scoped>\n",
       "    .dataframe tbody tr th:only-of-type {\n",
       "        vertical-align: middle;\n",
       "    }\n",
       "\n",
       "    .dataframe tbody tr th {\n",
       "        vertical-align: top;\n",
       "    }\n",
       "\n",
       "    .dataframe thead th {\n",
       "        text-align: right;\n",
       "    }\n",
       "</style>\n",
       "<table border=\"1\" class=\"dataframe\">\n",
       "  <thead>\n",
       "    <tr style=\"text-align: right;\">\n",
       "      <th></th>\n",
       "      <th>age</th>\n",
       "      <th>workclass</th>\n",
       "      <th>fnlwgt</th>\n",
       "      <th>education</th>\n",
       "      <th>education.num</th>\n",
       "      <th>marital.status</th>\n",
       "      <th>occupation</th>\n",
       "      <th>relationship</th>\n",
       "      <th>race</th>\n",
       "      <th>sex</th>\n",
       "      <th>capital.gain</th>\n",
       "      <th>capital.loss</th>\n",
       "      <th>hours.per.week</th>\n",
       "      <th>native.country</th>\n",
       "      <th>income</th>\n",
       "      <th>capital</th>\n",
       "    </tr>\n",
       "  </thead>\n",
       "  <tbody>\n",
       "    <tr>\n",
       "      <td>0</td>\n",
       "      <td>58</td>\n",
       "      <td>Private</td>\n",
       "      <td>290661</td>\n",
       "      <td>HS-grad</td>\n",
       "      <td>9</td>\n",
       "      <td>Married-civ-spouse</td>\n",
       "      <td>Craft-repair</td>\n",
       "      <td>Husband</td>\n",
       "      <td>White</td>\n",
       "      <td>Male</td>\n",
       "      <td>0</td>\n",
       "      <td>0</td>\n",
       "      <td>40</td>\n",
       "      <td>United-States</td>\n",
       "      <td>&lt;=50K</td>\n",
       "      <td>0</td>\n",
       "    </tr>\n",
       "    <tr>\n",
       "      <td>1</td>\n",
       "      <td>62</td>\n",
       "      <td>Private</td>\n",
       "      <td>109463</td>\n",
       "      <td>Some-college</td>\n",
       "      <td>10</td>\n",
       "      <td>Separated</td>\n",
       "      <td>Sales</td>\n",
       "      <td>Unmarried</td>\n",
       "      <td>White</td>\n",
       "      <td>Female</td>\n",
       "      <td>0</td>\n",
       "      <td>1617</td>\n",
       "      <td>33</td>\n",
       "      <td>United-States</td>\n",
       "      <td>&lt;=50K</td>\n",
       "      <td>-1617</td>\n",
       "    </tr>\n",
       "    <tr>\n",
       "      <td>2</td>\n",
       "      <td>33</td>\n",
       "      <td>Private</td>\n",
       "      <td>137088</td>\n",
       "      <td>Bachelors</td>\n",
       "      <td>13</td>\n",
       "      <td>Married-civ-spouse</td>\n",
       "      <td>Machine-op-inspct</td>\n",
       "      <td>Husband</td>\n",
       "      <td>Other</td>\n",
       "      <td>Male</td>\n",
       "      <td>0</td>\n",
       "      <td>0</td>\n",
       "      <td>40</td>\n",
       "      <td>Ecuador</td>\n",
       "      <td>&lt;=50K</td>\n",
       "      <td>0</td>\n",
       "    </tr>\n",
       "    <tr>\n",
       "      <td>3</td>\n",
       "      <td>24</td>\n",
       "      <td>Private</td>\n",
       "      <td>117767</td>\n",
       "      <td>Assoc-acdm</td>\n",
       "      <td>12</td>\n",
       "      <td>Never-married</td>\n",
       "      <td>Sales</td>\n",
       "      <td>Own-child</td>\n",
       "      <td>White</td>\n",
       "      <td>Male</td>\n",
       "      <td>0</td>\n",
       "      <td>0</td>\n",
       "      <td>20</td>\n",
       "      <td>United-States</td>\n",
       "      <td>&lt;=50K</td>\n",
       "      <td>0</td>\n",
       "    </tr>\n",
       "    <tr>\n",
       "      <td>4</td>\n",
       "      <td>67</td>\n",
       "      <td>Self-emp-not-inc</td>\n",
       "      <td>431426</td>\n",
       "      <td>HS-grad</td>\n",
       "      <td>9</td>\n",
       "      <td>Married-civ-spouse</td>\n",
       "      <td>Adm-clerical</td>\n",
       "      <td>Wife</td>\n",
       "      <td>White</td>\n",
       "      <td>Female</td>\n",
       "      <td>0</td>\n",
       "      <td>0</td>\n",
       "      <td>2</td>\n",
       "      <td>United-States</td>\n",
       "      <td>&lt;=50K</td>\n",
       "      <td>0</td>\n",
       "    </tr>\n",
       "  </tbody>\n",
       "</table>\n",
       "</div>"
      ],
      "text/plain": [
       "   age         workclass  fnlwgt     education  education.num  \\\n",
       "0   58           Private  290661       HS-grad              9   \n",
       "1   62           Private  109463  Some-college             10   \n",
       "2   33           Private  137088     Bachelors             13   \n",
       "3   24           Private  117767    Assoc-acdm             12   \n",
       "4   67  Self-emp-not-inc  431426       HS-grad              9   \n",
       "\n",
       "       marital.status         occupation relationship   race     sex  \\\n",
       "0  Married-civ-spouse       Craft-repair      Husband  White    Male   \n",
       "1           Separated              Sales    Unmarried  White  Female   \n",
       "2  Married-civ-spouse  Machine-op-inspct      Husband  Other    Male   \n",
       "3       Never-married              Sales    Own-child  White    Male   \n",
       "4  Married-civ-spouse       Adm-clerical         Wife  White  Female   \n",
       "\n",
       "   capital.gain  capital.loss  hours.per.week native.country income  capital  \n",
       "0             0             0              40  United-States  <=50K        0  \n",
       "1             0          1617              33  United-States  <=50K    -1617  \n",
       "2             0             0              40        Ecuador  <=50K        0  \n",
       "3             0             0              20  United-States  <=50K        0  \n",
       "4             0             0               2  United-States  <=50K        0  "
      ]
     },
     "execution_count": 13,
     "metadata": {},
     "output_type": "execute_result"
    }
   ],
   "source": [
    "train_df.head()"
   ]
  },
  {
   "cell_type": "code",
   "execution_count": 14,
   "metadata": {},
   "outputs": [],
   "source": [
    "def Normalize(X, y):\n",
    "    label_encoder = LabelEncoder()\n",
    "    one_hot_encoder = OneHotEncoder()\n",
    "    min_max_encoder = MinMaxScaler()\n",
    "    standard_encoder = StandardScaler()\n",
    "    count_encoder = CountEncoder()\n",
    "    X[:, 0] = min_max_encoder.fit_transform(X[:, 0].reshape(-1, 1)).ravel() #age\n",
    "\n",
    "    X[:, 1] = label_encoder.fit_transform(X[:, 1].reshape(-1, 1)).ravel() #workclass\n",
    "    \n",
    "    X[:, 2] = min_max_encoder.fit_transform(X[:, 2].reshape(-1, 1)).ravel() #fnlwgt\n",
    "    \n",
    "#     X[:, 3] = label_encoder.fit_transform(X[:, 3].reshape(-1, 1)).ravel()\n",
    "    X[:, 3] = count_encoder.fit_transform(X[:, 3].reshape(-1, 1)).values.ravel() #education\n",
    "    X[:, 3] = min_max_encoder.fit_transform(X[:, 3].reshape(-1, 1)).ravel()\n",
    "    \n",
    "    X[:, 5] = label_encoder.fit_transform(X[:, 5].reshape(-1, 1)).ravel() #marital.status\n",
    "    \n",
    "#     X[:, 6] = label_encoder.fit_transform(X[:, 6].reshape(-1, 1)).ravel() #occupation\n",
    "    X[:, 6] = count_encoder.fit_transform(X[:, 6].reshape(-1, 1)).values.ravel()\n",
    "    X[:, 6] = min_max_encoder.fit_transform(X[:, 6].reshape(-1, 1)).ravel()\n",
    "    \n",
    "    \n",
    "    X[:, 7] = label_encoder.fit_transform(X[:, 6].reshape(-1, 1)).ravel() #relationship\n",
    "    \n",
    "    X[:, 8] = label_encoder.fit_transform(X[:, 8].reshape(-1, 1)).ravel() #race\n",
    "    \n",
    "    X[:, 9] = label_encoder.fit_transform(X[:, 8].reshape(-1, 1)).ravel() #sex\n",
    "#     X[:, 10] = min_max_encoder.fit_transform(X[:, 10].reshape(-1, 1)).ravel() #capital.gain\n",
    "#     X[:, 11] = min_max_encoder.fit_transform(X[:, 11].reshape(-1, 1)).ravel() #capital.loss\n",
    "\n",
    "    X[:, 12] = min_max_encoder.fit_transform(X[:, 12].reshape(-1, 1)).ravel() #hours.per.week\n",
    "    \n",
    "    X[:, 13] = count_encoder.fit_transform(X[:, 13].reshape(-1, 1)).values.ravel() #native.country\n",
    "    X[:, 13] = min_max_encoder.fit_transform(X[:, 13].reshape(-1, 1)).ravel()\n",
    "    \n",
    "    X[:, 14] = min_max_encoder.fit_transform(X[:, 14].reshape(-1, 1)).ravel()\n",
    "    \n",
    "#     race_one_hot = one_hot_encoder.fit_transform(X[:, 1].reshape(-1, 1)).toarray()\n",
    "#     X = np.delete(X, 1, axis = 1)\n",
    "#     X = np.concatenate((X[:, 0:1], race_one_hot, X[:, 1:]), axis = 1)\n",
    "    \n",
    "    X = np.delete(X, 11, axis = 1)\n",
    "    X = np.delete(X, 10, axis = 1)\n",
    "    y = label_encoder.fit_transform(y) #income\n",
    "    return X, y"
   ]
  },
  {
   "cell_type": "code",
   "execution_count": 15,
   "metadata": {},
   "outputs": [
    {
     "name": "stdout",
     "output_type": "stream",
     "text": [
      "(22792, 13) (22792,) (9769, 13) (9769,)\n"
     ]
    },
    {
     "name": "stderr",
     "output_type": "stream",
     "text": [
      "D:\\Anaconda\\lib\\site-packages\\sklearn\\preprocessing\\label.py:235: DataConversionWarning: A column-vector y was passed when a 1d array was expected. Please change the shape of y to (n_samples, ), for example using ravel().\n",
      "  y = column_or_1d(y, warn=True)\n",
      "D:\\Anaconda\\lib\\site-packages\\sklearn\\preprocessing\\label.py:235: DataConversionWarning: A column-vector y was passed when a 1d array was expected. Please change the shape of y to (n_samples, ), for example using ravel().\n",
      "  y = column_or_1d(y, warn=True)\n",
      "D:\\Anaconda\\lib\\site-packages\\sklearn\\preprocessing\\label.py:235: DataConversionWarning: A column-vector y was passed when a 1d array was expected. Please change the shape of y to (n_samples, ), for example using ravel().\n",
      "  y = column_or_1d(y, warn=True)\n",
      "D:\\Anaconda\\lib\\site-packages\\sklearn\\preprocessing\\label.py:235: DataConversionWarning: A column-vector y was passed when a 1d array was expected. Please change the shape of y to (n_samples, ), for example using ravel().\n",
      "  y = column_or_1d(y, warn=True)\n",
      "D:\\Anaconda\\lib\\site-packages\\sklearn\\preprocessing\\label.py:235: DataConversionWarning: A column-vector y was passed when a 1d array was expected. Please change the shape of y to (n_samples, ), for example using ravel().\n",
      "  y = column_or_1d(y, warn=True)\n",
      "D:\\Anaconda\\lib\\site-packages\\sklearn\\preprocessing\\label.py:235: DataConversionWarning: A column-vector y was passed when a 1d array was expected. Please change the shape of y to (n_samples, ), for example using ravel().\n",
      "  y = column_or_1d(y, warn=True)\n"
     ]
    }
   ],
   "source": [
    "X_train, y_train = Normalize(X_train, y_train)\n",
    "X_test, y_test = Normalize(X_test, y_test)\n",
    "\n",
    "print(X_train.shape, y_train.shape, X_test.shape, y_test.shape)"
   ]
  },
  {
   "cell_type": "code",
   "execution_count": 16,
   "metadata": {},
   "outputs": [],
   "source": [
    "clf = GaussianNB()\n",
    "# clf = MultinomialNB()\n",
    "# clf = BernoulliNB()\n",
    "clf.fit(X_train, y_train)\n",
    "y_pred = clf.predict(X_test)"
   ]
  },
  {
   "cell_type": "code",
   "execution_count": 17,
   "metadata": {},
   "outputs": [
    {
     "name": "stdout",
     "output_type": "stream",
     "text": [
      "Accuracy score: 0.8158460436073293\n"
     ]
    }
   ],
   "source": [
    "print(\"Accuracy score:\", accuracy_score(y_test, y_pred))"
   ]
  },
  {
   "cell_type": "markdown",
   "metadata": {},
   "source": [
    "## Implement"
   ]
  },
  {
   "cell_type": "code",
   "execution_count": 28,
   "metadata": {},
   "outputs": [],
   "source": [
    "def seperate_classes(X, y):\n",
    "    unique_classes = np.unique(y)\n",
    "    seperated_classes = {unique_class:[] for unique_class in unique_classes}\n",
    "    for unique_class in unique_classes:\n",
    "        seperated_classes[unique_class].append(X[np.where(y==unique_class)[0]])\n",
    "    return seperated_classes\n",
    "\n",
    "def calculate_label_probs(seperated_classes):\n",
    "    n_samples = sum(len(value[0] for value in seperated_classes.values()))\n",
    "    label_probs = {seperated_class: len(seperated_classes[seperated_class][0])/float(n_samples) for seperated_class in seperated_classes}\n",
    "    return label_probs\n",
    "\n",
    "def gaussian(xi, mean_xi, std_i):\n",
    "    return np.exp(-np.power(xi-mean_xi, 2.)/(2*np.power(std_i, 2.)))/(np.sqrt(2*pi*np.power(std_i, 2.)))"
   ]
  },
  {
   "cell_type": "code",
   "execution_count": 29,
   "metadata": {},
   "outputs": [],
   "source": [
    "global std, mean, label_probs\n",
    "def fit(X_train, y_train):\n",
    "    global std\n",
    "    std = {}\n",
    "    global mean\n",
    "    mean = {}\n",
    "    global label_probs\n",
    "    label_probs = {}\n",
    "    seperated_classes = seperate_classes(X_train, y_train)\n",
    "    label_probs = calculate_label_probs(seperated_classes)\n",
    "    for seperated_class in seperated_classes:\n",
    "        std[seperated_class] = np.std(seperated_classes[seperated_class], axis = 1).flatten()\n",
    "        mean[seperated_class] = np.mean(seperated_classes[seperated_class], axis = 1).flatten()"
   ]
  },
  {
   "cell_type": "code",
   "execution_count": 30,
   "metadata": {},
   "outputs": [],
   "source": [
    "def predict(X_test):\n",
    "    global std\n",
    "    global mean\n",
    "    global label_prods\n",
    "    assert std or mean or label_prods, \"Fit before predicting\"\n",
    "    result = []\n",
    "    for x_row in X_test:\n",
    "        conditional_probs = []\n",
    "        for label in label_prods:\n",
    "            mul = 1\n",
    "            for index, feature in enumerate(x_row):\n",
    "                gauss = gaussian(feature, mean[label][index], std[label][index])\n",
    "                mul = mul *gauss\n",
    "            conditional_prob = label_prods[label]*mul\n",
    "            conditional_probs.append(conditional_prob)\n",
    "        result.append(np.argmax(conditional_probs))\n",
    "    return result\n"
   ]
  },
  {
   "cell_type": "code",
   "execution_count": null,
   "metadata": {},
   "outputs": [],
   "source": []
  }
 ],
 "metadata": {
  "kernelspec": {
   "display_name": "Python 3",
   "language": "python",
   "name": "python3"
  },
  "language_info": {
   "codemirror_mode": {
    "name": "ipython",
    "version": 3
   },
   "file_extension": ".py",
   "mimetype": "text/x-python",
   "name": "python",
   "nbconvert_exporter": "python",
   "pygments_lexer": "ipython3",
   "version": "3.7.4"
  }
 },
 "nbformat": 4,
 "nbformat_minor": 2
}
