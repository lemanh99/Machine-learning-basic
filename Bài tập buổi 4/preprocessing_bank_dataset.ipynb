{
 "cells": [
  {
   "cell_type": "markdown",
   "metadata": {},
   "source": [
    "- age : Continous-Numeric :Có nhận giá trị bất kỳ trong một khoảng xác định. (Có thể thuộc discrete vì khoảng cách không quá nhỏ)\n",
    "- job: Nominal - Categorical : Dự liệu dạng ký tự, phân loại nghề nghiệp nên không có thứ tự\n",
    "- marital : Ordinal - Categorical Dự liệu dạng chữ, không có ý nghĩa toán học, 2 kiểu là married hoặc single mà 2 cái này không có theo thứ tự nào cả\n",
    "- education : Dự liệu dạng chữ, không có ý nghĩa toán học, có thứ tự theo từng cấp bậc học \n",
    "- balance : Continous-Numeric :Có nhận giá trị bất kỳ trong một khoảng xác định\n",
    "- housing :norminal - Categorical : Dự liệu dạng chữ, không có ý nghĩa toán học( Yes - No ;  dạng nhị phân)\n",
    "- loan : Ordinal - Categorical : Dự liệu dạng chữ, không có ý nghĩa toán học, không có thứ tự( Yes - No ; dạng nhị phân)\n",
    "- contact : Ordinal - Categorical Dự liệu dạng chữ, không có ý nghĩa toán học, không có thứ tự vì có thể có thể liên lạc bằng cách khác nhau\n",
    "- day : Ordinal - Categorical : Dự liệu theo ngày không có ý nghĩa toán học, có thứ tự vì ngày trong 1 tháng có thứ tự từ 1 -> 30\n",
    "- month : Ordinal - Categorical : Dự liệu dạng chữ, không có ý nghĩa toán học, có thứ tự vì tháng theo thứ tự từ 1->12"
   ]
  },
  {
   "cell_type": "code",
   "execution_count": 1,
   "metadata": {},
   "outputs": [],
   "source": [
    "import numpy as np\n",
    "import pandas as pd"
   ]
  },
  {
   "cell_type": "code",
   "execution_count": 2,
   "metadata": {},
   "outputs": [
    {
     "name": "stdout",
     "output_type": "stream",
     "text": [
      "(19, 10)\n"
     ]
    },
    {
     "data": {
      "text/html": [
       "<div>\n",
       "<style scoped>\n",
       "    .dataframe tbody tr th:only-of-type {\n",
       "        vertical-align: middle;\n",
       "    }\n",
       "\n",
       "    .dataframe tbody tr th {\n",
       "        vertical-align: top;\n",
       "    }\n",
       "\n",
       "    .dataframe thead th {\n",
       "        text-align: right;\n",
       "    }\n",
       "</style>\n",
       "<table border=\"1\" class=\"dataframe\">\n",
       "  <thead>\n",
       "    <tr style=\"text-align: right;\">\n",
       "      <th></th>\n",
       "      <th>age</th>\n",
       "      <th>job</th>\n",
       "      <th>marital</th>\n",
       "      <th>education</th>\n",
       "      <th>balance</th>\n",
       "      <th>housing</th>\n",
       "      <th>loan</th>\n",
       "      <th>contact</th>\n",
       "      <th>day</th>\n",
       "      <th>month</th>\n",
       "    </tr>\n",
       "  </thead>\n",
       "  <tbody>\n",
       "    <tr>\n",
       "      <td>0</td>\n",
       "      <td>30</td>\n",
       "      <td>unemployed</td>\n",
       "      <td>married</td>\n",
       "      <td>primary</td>\n",
       "      <td>1787</td>\n",
       "      <td>no</td>\n",
       "      <td>no</td>\n",
       "      <td>cellular</td>\n",
       "      <td>19</td>\n",
       "      <td>oct</td>\n",
       "    </tr>\n",
       "    <tr>\n",
       "      <td>1</td>\n",
       "      <td>33</td>\n",
       "      <td>services</td>\n",
       "      <td>NaN</td>\n",
       "      <td>secondary</td>\n",
       "      <td>4789</td>\n",
       "      <td>yes</td>\n",
       "      <td>yes</td>\n",
       "      <td>cellular</td>\n",
       "      <td>11</td>\n",
       "      <td>may</td>\n",
       "    </tr>\n",
       "    <tr>\n",
       "      <td>2</td>\n",
       "      <td>35</td>\n",
       "      <td>management</td>\n",
       "      <td>single</td>\n",
       "      <td>NaN</td>\n",
       "      <td>1350</td>\n",
       "      <td>yes</td>\n",
       "      <td>no</td>\n",
       "      <td>cellular</td>\n",
       "      <td>16</td>\n",
       "      <td>apr</td>\n",
       "    </tr>\n",
       "    <tr>\n",
       "      <td>3</td>\n",
       "      <td>30</td>\n",
       "      <td>management</td>\n",
       "      <td>married</td>\n",
       "      <td>tertiary</td>\n",
       "      <td>1476</td>\n",
       "      <td>NaN</td>\n",
       "      <td>yes</td>\n",
       "      <td>unknown</td>\n",
       "      <td>3</td>\n",
       "      <td>jun</td>\n",
       "    </tr>\n",
       "    <tr>\n",
       "      <td>4</td>\n",
       "      <td>59</td>\n",
       "      <td>blue-collar</td>\n",
       "      <td>married</td>\n",
       "      <td>secondary</td>\n",
       "      <td>0</td>\n",
       "      <td>yes</td>\n",
       "      <td>no</td>\n",
       "      <td>unknown</td>\n",
       "      <td>5</td>\n",
       "      <td>may</td>\n",
       "    </tr>\n",
       "  </tbody>\n",
       "</table>\n",
       "</div>"
      ],
      "text/plain": [
       "   age          job  marital  education  balance housing loan   contact  day  \\\n",
       "0   30   unemployed  married    primary     1787      no   no  cellular   19   \n",
       "1   33     services      NaN  secondary     4789     yes  yes  cellular   11   \n",
       "2   35   management   single        NaN     1350     yes   no  cellular   16   \n",
       "3   30   management  married   tertiary     1476     NaN  yes   unknown    3   \n",
       "4   59  blue-collar  married  secondary        0     yes   no   unknown    5   \n",
       "\n",
       "  month  \n",
       "0   oct  \n",
       "1   may  \n",
       "2   apr  \n",
       "3   jun  \n",
       "4   may  "
      ]
     },
     "execution_count": 2,
     "metadata": {},
     "output_type": "execute_result"
    }
   ],
   "source": [
    "bank_dataset = pd.read_csv('./Dataset/bank.csv', sep = ';')\n",
    "print(bank_dataset.shape)\n",
    "bank_dataset.head(5)"
   ]
  },
  {
   "cell_type": "code",
   "execution_count": 3,
   "metadata": {},
   "outputs": [
    {
     "data": {
      "text/plain": [
       "age          0\n",
       "job          1\n",
       "marital      2\n",
       "education    1\n",
       "balance      0\n",
       "housing      1\n",
       "loan         0\n",
       "contact      1\n",
       "day          0\n",
       "month        1\n",
       "dtype: int64"
      ]
     },
     "execution_count": 3,
     "metadata": {},
     "output_type": "execute_result"
    }
   ],
   "source": [
    "bank_dataset.isnull().sum()"
   ]
  },
  {
   "cell_type": "markdown",
   "metadata": {},
   "source": [
    "# Missing Value"
   ]
  },
  {
   "cell_type": "markdown",
   "metadata": {},
   "source": [
    "## job"
   ]
  },
  {
   "cell_type": "code",
   "execution_count": 4,
   "metadata": {},
   "outputs": [],
   "source": [
    "X = bank_dataset.values\n",
    "\n",
    "from sklearn.impute import SimpleImputer\n",
    "job_impute = SimpleImputer(np.nan, strategy = 'most_frequent') #mode\n",
    "X[:, 1] = job_impute.fit_transform(X[:, 1].reshape(-1, 1)).ravel()"
   ]
  },
  {
   "cell_type": "markdown",
   "metadata": {},
   "source": [
    "### Marital"
   ]
  },
  {
   "cell_type": "code",
   "execution_count": 5,
   "metadata": {},
   "outputs": [],
   "source": [
    "from sklearn.impute import SimpleImputer\n",
    "marital_impute = SimpleImputer(np.nan, strategy = 'most_frequent') #mode\n",
    "X[:, 2] = marital_impute.fit_transform(X[:, 2].reshape(-1, 1)).ravel()"
   ]
  },
  {
   "cell_type": "markdown",
   "metadata": {},
   "source": [
    "### Education"
   ]
  },
  {
   "cell_type": "code",
   "execution_count": 6,
   "metadata": {},
   "outputs": [],
   "source": [
    "from sklearn.impute import SimpleImputer\n",
    "education_impute = SimpleImputer(np.nan, strategy = 'most_frequent') #mode\n",
    "X[:, 3] = education_impute.fit_transform(X[:, 3].reshape(-1, 1)).ravel()"
   ]
  },
  {
   "cell_type": "markdown",
   "metadata": {},
   "source": [
    "### Housing"
   ]
  },
  {
   "cell_type": "code",
   "execution_count": 7,
   "metadata": {},
   "outputs": [],
   "source": [
    "from sklearn.impute import SimpleImputer\n",
    "housing_impute = SimpleImputer(np.nan, strategy = 'most_frequent') #mode\n",
    "X[:, 5] = housing_impute.fit_transform(X[:, 5].reshape(-1, 1)).ravel()"
   ]
  },
  {
   "cell_type": "markdown",
   "metadata": {},
   "source": [
    "### Contact"
   ]
  },
  {
   "cell_type": "code",
   "execution_count": 8,
   "metadata": {},
   "outputs": [],
   "source": [
    "from sklearn.impute import SimpleImputer\n",
    "contact_impute = SimpleImputer(np.nan, strategy = 'most_frequent') #mode\n",
    "X[:, 7] = contact_impute.fit_transform(X[:, 7].reshape(-1, 1)).ravel()"
   ]
  },
  {
   "cell_type": "markdown",
   "metadata": {},
   "source": [
    "### Month"
   ]
  },
  {
   "cell_type": "code",
   "execution_count": 9,
   "metadata": {},
   "outputs": [],
   "source": [
    "from sklearn.impute import SimpleImputer\n",
    "month_impute = SimpleImputer(np.nan, strategy = 'most_frequent') #mode\n",
    "X[:, -1] = month_impute.fit_transform(X[:,-1].reshape(-1, 1)).ravel()"
   ]
  },
  {
   "cell_type": "code",
   "execution_count": 10,
   "metadata": {},
   "outputs": [
    {
     "data": {
      "text/plain": [
       "array([[30, 'unemployed', 'married', 'primary', 1787, 'no', 'no',\n",
       "        'cellular', 19, 'oct'],\n",
       "       [33, 'services', 'married', 'secondary', 4789, 'yes', 'yes',\n",
       "        'cellular', 11, 'may'],\n",
       "       [35, 'management', 'single', 'secondary', 1350, 'yes', 'no',\n",
       "        'cellular', 16, 'apr'],\n",
       "       [30, 'management', 'married', 'tertiary', 1476, 'yes', 'yes',\n",
       "        'unknown', 3, 'jun'],\n",
       "       [59, 'blue-collar', 'married', 'secondary', 0, 'yes', 'no',\n",
       "        'unknown', 5, 'may'],\n",
       "       [35, 'management', 'single', 'tertiary', 747, 'no', 'no',\n",
       "        'cellular', 23, 'feb'],\n",
       "       [36, 'self-employed', 'married', 'tertiary', 307, 'yes', 'no',\n",
       "        'cellular', 14, 'may'],\n",
       "       [39, 'technician', 'married', 'secondary', 147, 'yes', 'no',\n",
       "        'cellular', 6, 'may'],\n",
       "       [41, 'entrepreneur', 'married', 'tertiary', 221, 'yes', 'no',\n",
       "        'unknown', 14, 'may'],\n",
       "       [43, 'services', 'married', 'primary', -88, 'yes', 'yes',\n",
       "        'cellular', 17, 'apr'],\n",
       "       [39, 'services', 'married', 'secondary', 9374, 'yes', 'no',\n",
       "        'unknown', 20, 'may'],\n",
       "       [43, 'admin.', 'married', 'secondary', 264, 'yes', 'no',\n",
       "        'cellular', 17, 'apr'],\n",
       "       [36, 'technician', 'married', 'tertiary', 1109, 'no', 'no',\n",
       "        'cellular', 13, 'aug'],\n",
       "       [20, 'student', 'single', 'secondary', 502, 'no', 'no',\n",
       "        'cellular', 30, 'apr'],\n",
       "       [31, 'blue-collar', 'married', 'secondary', 360, 'yes', 'yes',\n",
       "        'cellular', 29, 'jan'],\n",
       "       [40, 'management', 'married', 'tertiary', 194, 'no', 'yes',\n",
       "        'cellular', 29, 'may'],\n",
       "       [56, 'management', 'married', 'secondary', 4073, 'no', 'no',\n",
       "        'cellular', 27, 'aug'],\n",
       "       [37, 'admin.', 'married', 'tertiary', 2317, 'yes', 'no',\n",
       "        'cellular', 20, 'apr'],\n",
       "       [25, 'blue-collar', 'single', 'primary', -221, 'yes', 'no',\n",
       "        'unknown', 23, 'may']], dtype=object)"
      ]
     },
     "execution_count": 10,
     "metadata": {},
     "output_type": "execute_result"
    }
   ],
   "source": [
    "X"
   ]
  },
  {
   "cell_type": "code",
   "execution_count": 11,
   "metadata": {},
   "outputs": [
    {
     "data": {
      "text/plain": [
       "age          0\n",
       "job          1\n",
       "marital      2\n",
       "education    1\n",
       "balance      0\n",
       "housing      1\n",
       "loan         0\n",
       "contact      1\n",
       "day          0\n",
       "month        1\n",
       "dtype: int64"
      ]
     },
     "execution_count": 11,
     "metadata": {},
     "output_type": "execute_result"
    }
   ],
   "source": [
    "bank_dataset.isnull().sum()"
   ]
  },
  {
   "cell_type": "code",
   "execution_count": 12,
   "metadata": {},
   "outputs": [
    {
     "data": {
      "text/html": [
       "<div>\n",
       "<style scoped>\n",
       "    .dataframe tbody tr th:only-of-type {\n",
       "        vertical-align: middle;\n",
       "    }\n",
       "\n",
       "    .dataframe tbody tr th {\n",
       "        vertical-align: top;\n",
       "    }\n",
       "\n",
       "    .dataframe thead th {\n",
       "        text-align: right;\n",
       "    }\n",
       "</style>\n",
       "<table border=\"1\" class=\"dataframe\">\n",
       "  <thead>\n",
       "    <tr style=\"text-align: right;\">\n",
       "      <th></th>\n",
       "      <th>age</th>\n",
       "      <th>job</th>\n",
       "      <th>marital</th>\n",
       "      <th>education</th>\n",
       "      <th>balance</th>\n",
       "      <th>housing</th>\n",
       "      <th>loan</th>\n",
       "      <th>contact</th>\n",
       "      <th>day</th>\n",
       "      <th>month</th>\n",
       "    </tr>\n",
       "  </thead>\n",
       "  <tbody>\n",
       "    <tr>\n",
       "      <td>0</td>\n",
       "      <td>30</td>\n",
       "      <td>unemployed</td>\n",
       "      <td>married</td>\n",
       "      <td>primary</td>\n",
       "      <td>1787</td>\n",
       "      <td>no</td>\n",
       "      <td>no</td>\n",
       "      <td>cellular</td>\n",
       "      <td>19</td>\n",
       "      <td>oct</td>\n",
       "    </tr>\n",
       "    <tr>\n",
       "      <td>1</td>\n",
       "      <td>33</td>\n",
       "      <td>services</td>\n",
       "      <td>married</td>\n",
       "      <td>secondary</td>\n",
       "      <td>4789</td>\n",
       "      <td>yes</td>\n",
       "      <td>yes</td>\n",
       "      <td>cellular</td>\n",
       "      <td>11</td>\n",
       "      <td>may</td>\n",
       "    </tr>\n",
       "    <tr>\n",
       "      <td>2</td>\n",
       "      <td>35</td>\n",
       "      <td>management</td>\n",
       "      <td>single</td>\n",
       "      <td>secondary</td>\n",
       "      <td>1350</td>\n",
       "      <td>yes</td>\n",
       "      <td>no</td>\n",
       "      <td>cellular</td>\n",
       "      <td>16</td>\n",
       "      <td>apr</td>\n",
       "    </tr>\n",
       "    <tr>\n",
       "      <td>3</td>\n",
       "      <td>30</td>\n",
       "      <td>management</td>\n",
       "      <td>married</td>\n",
       "      <td>tertiary</td>\n",
       "      <td>1476</td>\n",
       "      <td>yes</td>\n",
       "      <td>yes</td>\n",
       "      <td>unknown</td>\n",
       "      <td>3</td>\n",
       "      <td>jun</td>\n",
       "    </tr>\n",
       "    <tr>\n",
       "      <td>4</td>\n",
       "      <td>59</td>\n",
       "      <td>blue-collar</td>\n",
       "      <td>married</td>\n",
       "      <td>secondary</td>\n",
       "      <td>0</td>\n",
       "      <td>yes</td>\n",
       "      <td>no</td>\n",
       "      <td>unknown</td>\n",
       "      <td>5</td>\n",
       "      <td>may</td>\n",
       "    </tr>\n",
       "  </tbody>\n",
       "</table>\n",
       "</div>"
      ],
      "text/plain": [
       "   age          job  marital  education  balance housing loan   contact  day  \\\n",
       "0   30   unemployed  married    primary     1787      no   no  cellular   19   \n",
       "1   33     services  married  secondary     4789     yes  yes  cellular   11   \n",
       "2   35   management   single  secondary     1350     yes   no  cellular   16   \n",
       "3   30   management  married   tertiary     1476     yes  yes   unknown    3   \n",
       "4   59  blue-collar  married  secondary        0     yes   no   unknown    5   \n",
       "\n",
       "  month  \n",
       "0   oct  \n",
       "1   may  \n",
       "2   apr  \n",
       "3   jun  \n",
       "4   may  "
      ]
     },
     "execution_count": 12,
     "metadata": {},
     "output_type": "execute_result"
    }
   ],
   "source": [
    "bank_dataset = pd.DataFrame.from_records(X, columns = bank_dataset.columns)\n",
    "bank_dataset.head()"
   ]
  },
  {
   "cell_type": "markdown",
   "metadata": {},
   "source": [
    "# Chuẩn hóa dữ liệu"
   ]
  },
  {
   "cell_type": "code",
   "execution_count": 13,
   "metadata": {},
   "outputs": [],
   "source": [
    "X = bank_dataset.values"
   ]
  },
  {
   "cell_type": "code",
   "execution_count": 14,
   "metadata": {},
   "outputs": [],
   "source": [
    "from sklearn.preprocessing import StandardScaler, MinMaxScaler\n",
    "from sklearn.preprocessing import  LabelEncoder"
   ]
  },
  {
   "cell_type": "markdown",
   "metadata": {},
   "source": [
    "### age"
   ]
  },
  {
   "cell_type": "code",
   "execution_count": 15,
   "metadata": {},
   "outputs": [],
   "source": [
    "minmax_scaler_age = MinMaxScaler()\n",
    "X[:, 0] = minmax_scaler_age.fit_transform(X[:, 0].reshape(-1, 1)).ravel()"
   ]
  },
  {
   "cell_type": "markdown",
   "metadata": {},
   "source": [
    "### balance"
   ]
  },
  {
   "cell_type": "code",
   "execution_count": 16,
   "metadata": {},
   "outputs": [],
   "source": [
    "minmax_scaler_balance = MinMaxScaler()\n",
    "X[:, 4] = minmax_scaler_balance.fit_transform(X[:, 4].reshape(-1, 1)).ravel()"
   ]
  },
  {
   "cell_type": "markdown",
   "metadata": {},
   "source": [
    "### housing"
   ]
  },
  {
   "cell_type": "code",
   "execution_count": 17,
   "metadata": {},
   "outputs": [],
   "source": [
    "housing_label_encoder = LabelEncoder()\n",
    "X[:, 5] = housing_label_encoder.fit_transform(X[:, 5])"
   ]
  },
  {
   "cell_type": "markdown",
   "metadata": {},
   "source": [
    "### loan"
   ]
  },
  {
   "cell_type": "code",
   "execution_count": 18,
   "metadata": {},
   "outputs": [],
   "source": [
    "loan_label_encoder = LabelEncoder()\n",
    "X[:, 6] = loan_label_encoder.fit_transform(X[:, 6])"
   ]
  },
  {
   "cell_type": "markdown",
   "metadata": {},
   "source": [
    "### marital"
   ]
  },
  {
   "cell_type": "code",
   "execution_count": 19,
   "metadata": {},
   "outputs": [
    {
     "data": {
      "text/plain": [
       "array([[0.2564102564102564, 'unemployed', 0, 'primary',\n",
       "        0.20927566440854614, 0, 0, 'cellular', 19, 'oct'],\n",
       "       [0.33333333333333337, 'services', 0, 'secondary',\n",
       "        0.522146951537259, 1, 1, 'cellular', 11, 'may'],\n",
       "       [0.3846153846153846, 'management', 1, 'secondary',\n",
       "        0.16373110995310058, 1, 0, 'cellular', 16, 'apr'],\n",
       "       [0.2564102564102564, 'management', 0, 'tertiary',\n",
       "        0.17686294945284003, 1, 1, 'unknown', 3, 'jun'],\n",
       "       [1.0, 'blue-collar', 0, 'secondary', 0.02303282959874935, 1, 0,\n",
       "        'unknown', 5, 'may'],\n",
       "       [0.3846153846153846, 'management', 1, 'tertiary',\n",
       "        0.10088587806149035, 0, 0, 'cellular', 23, 'feb'],\n",
       "       [0.41025641025641024, 'self-employed', 0, 'tertiary',\n",
       "        0.05502866076081292, 1, 0, 'cellular', 14, 'may'],\n",
       "       [0.4871794871794872, 'technician', 0, 'secondary',\n",
       "        0.03835330901511204, 1, 0, 'cellular', 6, 'may'],\n",
       "       [0.5384615384615385, 'entrepreneur', 0, 'tertiary',\n",
       "        0.0460656591974987, 1, 0, 'unknown', 14, 'may'],\n",
       "       [0.5897435897435896, 'services', 0, 'primary',\n",
       "        0.013861386138613863, 1, 1, 'cellular', 17, 'apr'],\n",
       "       [0.4871794871794872, 'services', 0, 'secondary', 1.0, 1, 0,\n",
       "        'unknown', 20, 'may'],\n",
       "       [0.5897435897435896, 'admin.', 0, 'secondary',\n",
       "        0.050547159979155806, 1, 0, 'cellular', 17, 'apr'],\n",
       "       [0.41025641025641024, 'technician', 0, 'tertiary',\n",
       "        0.13861386138613863, 0, 0, 'cellular', 13, 'aug'],\n",
       "       [0.0, 'student', 1, 'secondary', 0.07535174570088587, 0, 0,\n",
       "        'cellular', 30, 'apr'],\n",
       "       [0.28205128205128205, 'blue-collar', 0, 'secondary',\n",
       "        0.060552371026576346, 1, 1, 'cellular', 29, 'jan'],\n",
       "       [0.5128205128205128, 'management', 0, 'tertiary',\n",
       "        0.04325169359041167, 0, 1, 'cellular', 29, 'may'],\n",
       "       [0.9230769230769231, 'management', 0, 'secondary',\n",
       "        0.44752475247524753, 0, 0, 'cellular', 27, 'aug'],\n",
       "       [0.4358974358974359, 'admin.', 0, 'tertiary', 0.2645127670661803,\n",
       "        1, 0, 'cellular', 20, 'apr'],\n",
       "       [0.1282051282051282, 'blue-collar', 1, 'primary', 0.0, 1, 0,\n",
       "        'unknown', 23, 'may']], dtype=object)"
      ]
     },
     "execution_count": 19,
     "metadata": {},
     "output_type": "execute_result"
    }
   ],
   "source": [
    "marital_label_encoder = LabelEncoder()\n",
    "X[:, 2] = marital_label_encoder.fit_transform(X[:, 2])\n",
    "X"
   ]
  },
  {
   "cell_type": "code",
   "execution_count": 20,
   "metadata": {},
   "outputs": [],
   "source": [
    "from sklearn.preprocessing import OneHotEncoder"
   ]
  },
  {
   "cell_type": "markdown",
   "metadata": {},
   "source": [
    "### Job"
   ]
  },
  {
   "cell_type": "code",
   "execution_count": 21,
   "metadata": {
    "scrolled": true
   },
   "outputs": [
    {
     "data": {
      "text/plain": [
       "array([[0.2564102564102564, 0, 0.0, 0.0, 0.0, 0.0, 0.0, 0.0, 0.0, 0.0,\n",
       "        1.0, 'primary', 0.20927566440854614, 0, 0, 'cellular', 19, 'oct'],\n",
       "       [0.33333333333333337, 0, 0.0, 0.0, 0.0, 0.0, 0.0, 1.0, 0.0, 0.0,\n",
       "        0.0, 'secondary', 0.522146951537259, 1, 1, 'cellular', 11, 'may'],\n",
       "       [0.3846153846153846, 1, 0.0, 0.0, 0.0, 1.0, 0.0, 0.0, 0.0, 0.0,\n",
       "        0.0, 'secondary', 0.16373110995310058, 1, 0, 'cellular', 16,\n",
       "        'apr'],\n",
       "       [0.2564102564102564, 0, 0.0, 0.0, 0.0, 1.0, 0.0, 0.0, 0.0, 0.0,\n",
       "        0.0, 'tertiary', 0.17686294945284003, 1, 1, 'unknown', 3, 'jun'],\n",
       "       [1.0, 0, 0.0, 1.0, 0.0, 0.0, 0.0, 0.0, 0.0, 0.0, 0.0, 'secondary',\n",
       "        0.02303282959874935, 1, 0, 'unknown', 5, 'may'],\n",
       "       [0.3846153846153846, 1, 0.0, 0.0, 0.0, 1.0, 0.0, 0.0, 0.0, 0.0,\n",
       "        0.0, 'tertiary', 0.10088587806149035, 0, 0, 'cellular', 23,\n",
       "        'feb'],\n",
       "       [0.41025641025641024, 0, 0.0, 0.0, 0.0, 0.0, 1.0, 0.0, 0.0, 0.0,\n",
       "        0.0, 'tertiary', 0.05502866076081292, 1, 0, 'cellular', 14,\n",
       "        'may'],\n",
       "       [0.4871794871794872, 0, 0.0, 0.0, 0.0, 0.0, 0.0, 0.0, 0.0, 1.0,\n",
       "        0.0, 'secondary', 0.03835330901511204, 1, 0, 'cellular', 6,\n",
       "        'may'],\n",
       "       [0.5384615384615385, 0, 0.0, 0.0, 1.0, 0.0, 0.0, 0.0, 0.0, 0.0,\n",
       "        0.0, 'tertiary', 0.0460656591974987, 1, 0, 'unknown', 14, 'may'],\n",
       "       [0.5897435897435896, 0, 0.0, 0.0, 0.0, 0.0, 0.0, 1.0, 0.0, 0.0,\n",
       "        0.0, 'primary', 0.013861386138613863, 1, 1, 'cellular', 17,\n",
       "        'apr'],\n",
       "       [0.4871794871794872, 0, 0.0, 0.0, 0.0, 0.0, 0.0, 1.0, 0.0, 0.0,\n",
       "        0.0, 'secondary', 1.0, 1, 0, 'unknown', 20, 'may'],\n",
       "       [0.5897435897435896, 0, 1.0, 0.0, 0.0, 0.0, 0.0, 0.0, 0.0, 0.0,\n",
       "        0.0, 'secondary', 0.050547159979155806, 1, 0, 'cellular', 17,\n",
       "        'apr'],\n",
       "       [0.41025641025641024, 0, 0.0, 0.0, 0.0, 0.0, 0.0, 0.0, 0.0, 1.0,\n",
       "        0.0, 'tertiary', 0.13861386138613863, 0, 0, 'cellular', 13,\n",
       "        'aug'],\n",
       "       [0.0, 1, 0.0, 0.0, 0.0, 0.0, 0.0, 0.0, 1.0, 0.0, 0.0, 'secondary',\n",
       "        0.07535174570088587, 0, 0, 'cellular', 30, 'apr'],\n",
       "       [0.28205128205128205, 0, 0.0, 1.0, 0.0, 0.0, 0.0, 0.0, 0.0, 0.0,\n",
       "        0.0, 'secondary', 0.060552371026576346, 1, 1, 'cellular', 29,\n",
       "        'jan'],\n",
       "       [0.5128205128205128, 0, 0.0, 0.0, 0.0, 1.0, 0.0, 0.0, 0.0, 0.0,\n",
       "        0.0, 'tertiary', 0.04325169359041167, 0, 1, 'cellular', 29,\n",
       "        'may'],\n",
       "       [0.9230769230769231, 0, 0.0, 0.0, 0.0, 1.0, 0.0, 0.0, 0.0, 0.0,\n",
       "        0.0, 'secondary', 0.44752475247524753, 0, 0, 'cellular', 27,\n",
       "        'aug'],\n",
       "       [0.4358974358974359, 0, 1.0, 0.0, 0.0, 0.0, 0.0, 0.0, 0.0, 0.0,\n",
       "        0.0, 'tertiary', 0.2645127670661803, 1, 0, 'cellular', 20, 'apr'],\n",
       "       [0.1282051282051282, 1, 0.0, 1.0, 0.0, 0.0, 0.0, 0.0, 0.0, 0.0,\n",
       "        0.0, 'primary', 0.0, 1, 0, 'unknown', 23, 'may']], dtype=object)"
      ]
     },
     "execution_count": 21,
     "metadata": {},
     "output_type": "execute_result"
    }
   ],
   "source": [
    "job_onehot = OneHotEncoder()\n",
    "job = job_onehot.fit_transform(X[:, 1].reshape(-1, 1)).toarray()\n",
    "X = np.delete(X, 1, axis = 1)\n",
    "X = np.concatenate((X[:, 0:2], job, X[:, 2:]), axis = 1)\n",
    "X"
   ]
  },
  {
   "cell_type": "markdown",
   "metadata": {},
   "source": [
    "### education"
   ]
  },
  {
   "cell_type": "code",
   "execution_count": 22,
   "metadata": {},
   "outputs": [
    {
     "data": {
      "text/plain": [
       "array([[0.2564102564102564, 0, 0.0, 0.0, 0.0, 0.0, 0.0, 0.0, 0.0, 0.0,\n",
       "        1.0, 0.0, 0.0, 0.0, 0.0, 0.0, 0.0, 0.0, 0.0, 1.0,\n",
       "        0.20927566440854614, 0, 0, 'cellular', 19, 'oct'],\n",
       "       [0.33333333333333337, 0, 0.0, 0.0, 0.0, 0.0, 0.0, 1.0, 0.0, 0.0,\n",
       "        0.0, 0.0, 0.0, 0.0, 0.0, 0.0, 1.0, 0.0, 0.0, 0.0,\n",
       "        0.522146951537259, 1, 1, 'cellular', 11, 'may'],\n",
       "       [0.3846153846153846, 1, 0.0, 0.0, 0.0, 1.0, 0.0, 0.0, 0.0, 0.0,\n",
       "        0.0, 0.0, 0.0, 0.0, 1.0, 0.0, 0.0, 0.0, 0.0, 0.0,\n",
       "        0.16373110995310058, 1, 0, 'cellular', 16, 'apr'],\n",
       "       [0.2564102564102564, 0, 0.0, 0.0, 0.0, 1.0, 0.0, 0.0, 0.0, 0.0,\n",
       "        0.0, 0.0, 0.0, 0.0, 1.0, 0.0, 0.0, 0.0, 0.0, 0.0,\n",
       "        0.17686294945284003, 1, 1, 'unknown', 3, 'jun'],\n",
       "       [1.0, 0, 0.0, 1.0, 0.0, 0.0, 0.0, 0.0, 0.0, 0.0, 0.0, 0.0, 1.0,\n",
       "        0.0, 0.0, 0.0, 0.0, 0.0, 0.0, 0.0, 0.02303282959874935, 1, 0,\n",
       "        'unknown', 5, 'may'],\n",
       "       [0.3846153846153846, 1, 0.0, 0.0, 0.0, 1.0, 0.0, 0.0, 0.0, 0.0,\n",
       "        0.0, 0.0, 0.0, 0.0, 1.0, 0.0, 0.0, 0.0, 0.0, 0.0,\n",
       "        0.10088587806149035, 0, 0, 'cellular', 23, 'feb'],\n",
       "       [0.41025641025641024, 0, 0.0, 0.0, 0.0, 0.0, 1.0, 0.0, 0.0, 0.0,\n",
       "        0.0, 0.0, 0.0, 0.0, 0.0, 1.0, 0.0, 0.0, 0.0, 0.0,\n",
       "        0.05502866076081292, 1, 0, 'cellular', 14, 'may'],\n",
       "       [0.4871794871794872, 0, 0.0, 0.0, 0.0, 0.0, 0.0, 0.0, 0.0, 1.0,\n",
       "        0.0, 0.0, 0.0, 0.0, 0.0, 0.0, 0.0, 0.0, 1.0, 0.0,\n",
       "        0.03835330901511204, 1, 0, 'cellular', 6, 'may'],\n",
       "       [0.5384615384615385, 0, 0.0, 0.0, 1.0, 0.0, 0.0, 0.0, 0.0, 0.0,\n",
       "        0.0, 0.0, 0.0, 1.0, 0.0, 0.0, 0.0, 0.0, 0.0, 0.0,\n",
       "        0.0460656591974987, 1, 0, 'unknown', 14, 'may'],\n",
       "       [0.5897435897435896, 0, 0.0, 0.0, 0.0, 0.0, 0.0, 1.0, 0.0, 0.0,\n",
       "        0.0, 0.0, 0.0, 0.0, 0.0, 0.0, 1.0, 0.0, 0.0, 0.0,\n",
       "        0.013861386138613863, 1, 1, 'cellular', 17, 'apr'],\n",
       "       [0.4871794871794872, 0, 0.0, 0.0, 0.0, 0.0, 0.0, 1.0, 0.0, 0.0,\n",
       "        0.0, 0.0, 0.0, 0.0, 0.0, 0.0, 1.0, 0.0, 0.0, 0.0, 1.0, 1, 0,\n",
       "        'unknown', 20, 'may'],\n",
       "       [0.5897435897435896, 0, 1.0, 0.0, 0.0, 0.0, 0.0, 0.0, 0.0, 0.0,\n",
       "        0.0, 1.0, 0.0, 0.0, 0.0, 0.0, 0.0, 0.0, 0.0, 0.0,\n",
       "        0.050547159979155806, 1, 0, 'cellular', 17, 'apr'],\n",
       "       [0.41025641025641024, 0, 0.0, 0.0, 0.0, 0.0, 0.0, 0.0, 0.0, 1.0,\n",
       "        0.0, 0.0, 0.0, 0.0, 0.0, 0.0, 0.0, 0.0, 1.0, 0.0,\n",
       "        0.13861386138613863, 0, 0, 'cellular', 13, 'aug'],\n",
       "       [0.0, 1, 0.0, 0.0, 0.0, 0.0, 0.0, 0.0, 1.0, 0.0, 0.0, 0.0, 0.0,\n",
       "        0.0, 0.0, 0.0, 0.0, 1.0, 0.0, 0.0, 0.07535174570088587, 0, 0,\n",
       "        'cellular', 30, 'apr'],\n",
       "       [0.28205128205128205, 0, 0.0, 1.0, 0.0, 0.0, 0.0, 0.0, 0.0, 0.0,\n",
       "        0.0, 0.0, 1.0, 0.0, 0.0, 0.0, 0.0, 0.0, 0.0, 0.0,\n",
       "        0.060552371026576346, 1, 1, 'cellular', 29, 'jan'],\n",
       "       [0.5128205128205128, 0, 0.0, 0.0, 0.0, 1.0, 0.0, 0.0, 0.0, 0.0,\n",
       "        0.0, 0.0, 0.0, 0.0, 1.0, 0.0, 0.0, 0.0, 0.0, 0.0,\n",
       "        0.04325169359041167, 0, 1, 'cellular', 29, 'may'],\n",
       "       [0.9230769230769231, 0, 0.0, 0.0, 0.0, 1.0, 0.0, 0.0, 0.0, 0.0,\n",
       "        0.0, 0.0, 0.0, 0.0, 1.0, 0.0, 0.0, 0.0, 0.0, 0.0,\n",
       "        0.44752475247524753, 0, 0, 'cellular', 27, 'aug'],\n",
       "       [0.4358974358974359, 0, 1.0, 0.0, 0.0, 0.0, 0.0, 0.0, 0.0, 0.0,\n",
       "        0.0, 1.0, 0.0, 0.0, 0.0, 0.0, 0.0, 0.0, 0.0, 0.0,\n",
       "        0.2645127670661803, 1, 0, 'cellular', 20, 'apr'],\n",
       "       [0.1282051282051282, 1, 0.0, 1.0, 0.0, 0.0, 0.0, 0.0, 0.0, 0.0,\n",
       "        0.0, 0.0, 1.0, 0.0, 0.0, 0.0, 0.0, 0.0, 0.0, 0.0, 0.0, 1, 0,\n",
       "        'unknown', 23, 'may']], dtype=object)"
      ]
     },
     "execution_count": 22,
     "metadata": {},
     "output_type": "execute_result"
    }
   ],
   "source": [
    "education_onehot = OneHotEncoder()\n",
    "education = education_onehot.fit_transform(X[:, 11].reshape(-1, 1)).toarray()\n",
    "X = np.delete(X, 11, axis = 1)\n",
    "X = np.concatenate((X[:, 0:11], job, X[:, 11:]), axis = 1)\n",
    "X"
   ]
  },
  {
   "cell_type": "markdown",
   "metadata": {},
   "source": [
    "### Contact"
   ]
  },
  {
   "cell_type": "code",
   "execution_count": 23,
   "metadata": {},
   "outputs": [
    {
     "data": {
      "text/plain": [
       "array([[0.2564102564102564, 0, 0.0, 0.0, 0.0, 0.0, 0.0, 0.0, 0.0, 0.0,\n",
       "        1.0, 0.0, 0.0, 0.0, 0.0, 0.0, 0.0, 0.0, 0.0, 1.0,\n",
       "        0.20927566440854614, 0, 0, 0, 19, 'oct'],\n",
       "       [0.33333333333333337, 0, 0.0, 0.0, 0.0, 0.0, 0.0, 1.0, 0.0, 0.0,\n",
       "        0.0, 0.0, 0.0, 0.0, 0.0, 0.0, 1.0, 0.0, 0.0, 0.0,\n",
       "        0.522146951537259, 1, 1, 0, 11, 'may'],\n",
       "       [0.3846153846153846, 1, 0.0, 0.0, 0.0, 1.0, 0.0, 0.0, 0.0, 0.0,\n",
       "        0.0, 0.0, 0.0, 0.0, 1.0, 0.0, 0.0, 0.0, 0.0, 0.0,\n",
       "        0.16373110995310058, 1, 0, 0, 16, 'apr'],\n",
       "       [0.2564102564102564, 0, 0.0, 0.0, 0.0, 1.0, 0.0, 0.0, 0.0, 0.0,\n",
       "        0.0, 0.0, 0.0, 0.0, 1.0, 0.0, 0.0, 0.0, 0.0, 0.0,\n",
       "        0.17686294945284003, 1, 1, 1, 3, 'jun'],\n",
       "       [1.0, 0, 0.0, 1.0, 0.0, 0.0, 0.0, 0.0, 0.0, 0.0, 0.0, 0.0, 1.0,\n",
       "        0.0, 0.0, 0.0, 0.0, 0.0, 0.0, 0.0, 0.02303282959874935, 1, 0, 1,\n",
       "        5, 'may'],\n",
       "       [0.3846153846153846, 1, 0.0, 0.0, 0.0, 1.0, 0.0, 0.0, 0.0, 0.0,\n",
       "        0.0, 0.0, 0.0, 0.0, 1.0, 0.0, 0.0, 0.0, 0.0, 0.0,\n",
       "        0.10088587806149035, 0, 0, 0, 23, 'feb'],\n",
       "       [0.41025641025641024, 0, 0.0, 0.0, 0.0, 0.0, 1.0, 0.0, 0.0, 0.0,\n",
       "        0.0, 0.0, 0.0, 0.0, 0.0, 1.0, 0.0, 0.0, 0.0, 0.0,\n",
       "        0.05502866076081292, 1, 0, 0, 14, 'may'],\n",
       "       [0.4871794871794872, 0, 0.0, 0.0, 0.0, 0.0, 0.0, 0.0, 0.0, 1.0,\n",
       "        0.0, 0.0, 0.0, 0.0, 0.0, 0.0, 0.0, 0.0, 1.0, 0.0,\n",
       "        0.03835330901511204, 1, 0, 0, 6, 'may'],\n",
       "       [0.5384615384615385, 0, 0.0, 0.0, 1.0, 0.0, 0.0, 0.0, 0.0, 0.0,\n",
       "        0.0, 0.0, 0.0, 1.0, 0.0, 0.0, 0.0, 0.0, 0.0, 0.0,\n",
       "        0.0460656591974987, 1, 0, 1, 14, 'may'],\n",
       "       [0.5897435897435896, 0, 0.0, 0.0, 0.0, 0.0, 0.0, 1.0, 0.0, 0.0,\n",
       "        0.0, 0.0, 0.0, 0.0, 0.0, 0.0, 1.0, 0.0, 0.0, 0.0,\n",
       "        0.013861386138613863, 1, 1, 0, 17, 'apr'],\n",
       "       [0.4871794871794872, 0, 0.0, 0.0, 0.0, 0.0, 0.0, 1.0, 0.0, 0.0,\n",
       "        0.0, 0.0, 0.0, 0.0, 0.0, 0.0, 1.0, 0.0, 0.0, 0.0, 1.0, 1, 0, 1,\n",
       "        20, 'may'],\n",
       "       [0.5897435897435896, 0, 1.0, 0.0, 0.0, 0.0, 0.0, 0.0, 0.0, 0.0,\n",
       "        0.0, 1.0, 0.0, 0.0, 0.0, 0.0, 0.0, 0.0, 0.0, 0.0,\n",
       "        0.050547159979155806, 1, 0, 0, 17, 'apr'],\n",
       "       [0.41025641025641024, 0, 0.0, 0.0, 0.0, 0.0, 0.0, 0.0, 0.0, 1.0,\n",
       "        0.0, 0.0, 0.0, 0.0, 0.0, 0.0, 0.0, 0.0, 1.0, 0.0,\n",
       "        0.13861386138613863, 0, 0, 0, 13, 'aug'],\n",
       "       [0.0, 1, 0.0, 0.0, 0.0, 0.0, 0.0, 0.0, 1.0, 0.0, 0.0, 0.0, 0.0,\n",
       "        0.0, 0.0, 0.0, 0.0, 1.0, 0.0, 0.0, 0.07535174570088587, 0, 0, 0,\n",
       "        30, 'apr'],\n",
       "       [0.28205128205128205, 0, 0.0, 1.0, 0.0, 0.0, 0.0, 0.0, 0.0, 0.0,\n",
       "        0.0, 0.0, 1.0, 0.0, 0.0, 0.0, 0.0, 0.0, 0.0, 0.0,\n",
       "        0.060552371026576346, 1, 1, 0, 29, 'jan'],\n",
       "       [0.5128205128205128, 0, 0.0, 0.0, 0.0, 1.0, 0.0, 0.0, 0.0, 0.0,\n",
       "        0.0, 0.0, 0.0, 0.0, 1.0, 0.0, 0.0, 0.0, 0.0, 0.0,\n",
       "        0.04325169359041167, 0, 1, 0, 29, 'may'],\n",
       "       [0.9230769230769231, 0, 0.0, 0.0, 0.0, 1.0, 0.0, 0.0, 0.0, 0.0,\n",
       "        0.0, 0.0, 0.0, 0.0, 1.0, 0.0, 0.0, 0.0, 0.0, 0.0,\n",
       "        0.44752475247524753, 0, 0, 0, 27, 'aug'],\n",
       "       [0.4358974358974359, 0, 1.0, 0.0, 0.0, 0.0, 0.0, 0.0, 0.0, 0.0,\n",
       "        0.0, 1.0, 0.0, 0.0, 0.0, 0.0, 0.0, 0.0, 0.0, 0.0,\n",
       "        0.2645127670661803, 1, 0, 0, 20, 'apr'],\n",
       "       [0.1282051282051282, 1, 0.0, 1.0, 0.0, 0.0, 0.0, 0.0, 0.0, 0.0,\n",
       "        0.0, 0.0, 1.0, 0.0, 0.0, 0.0, 0.0, 0.0, 0.0, 0.0, 0.0, 1, 0, 1,\n",
       "        23, 'may']], dtype=object)"
      ]
     },
     "execution_count": 23,
     "metadata": {},
     "output_type": "execute_result"
    }
   ],
   "source": [
    "contact_label_encoder = LabelEncoder()\n",
    "X[:, -3] = contact_label_encoder.fit_transform(X[:, -3])\n",
    "X"
   ]
  },
  {
   "cell_type": "markdown",
   "metadata": {},
   "source": [
    "### Month"
   ]
  },
  {
   "cell_type": "code",
   "execution_count": 24,
   "metadata": {},
   "outputs": [
    {
     "data": {
      "text/plain": [
       "array([[0.2564102564102564, 0, 0.0, 0.0, 0.0, 0.0, 0.0, 0.0, 0.0, 0.0,\n",
       "        1.0, 0.0, 0.0, 0.0, 0.0, 0.0, 0.0, 0.0, 0.0, 1.0,\n",
       "        0.20927566440854614, 0, 0, 0, 19, 6],\n",
       "       [0.33333333333333337, 0, 0.0, 0.0, 0.0, 0.0, 0.0, 1.0, 0.0, 0.0,\n",
       "        0.0, 0.0, 0.0, 0.0, 0.0, 0.0, 1.0, 0.0, 0.0, 0.0,\n",
       "        0.522146951537259, 1, 1, 0, 11, 5],\n",
       "       [0.3846153846153846, 1, 0.0, 0.0, 0.0, 1.0, 0.0, 0.0, 0.0, 0.0,\n",
       "        0.0, 0.0, 0.0, 0.0, 1.0, 0.0, 0.0, 0.0, 0.0, 0.0,\n",
       "        0.16373110995310058, 1, 0, 0, 16, 0],\n",
       "       [0.2564102564102564, 0, 0.0, 0.0, 0.0, 1.0, 0.0, 0.0, 0.0, 0.0,\n",
       "        0.0, 0.0, 0.0, 0.0, 1.0, 0.0, 0.0, 0.0, 0.0, 0.0,\n",
       "        0.17686294945284003, 1, 1, 1, 3, 4],\n",
       "       [1.0, 0, 0.0, 1.0, 0.0, 0.0, 0.0, 0.0, 0.0, 0.0, 0.0, 0.0, 1.0,\n",
       "        0.0, 0.0, 0.0, 0.0, 0.0, 0.0, 0.0, 0.02303282959874935, 1, 0, 1,\n",
       "        5, 5],\n",
       "       [0.3846153846153846, 1, 0.0, 0.0, 0.0, 1.0, 0.0, 0.0, 0.0, 0.0,\n",
       "        0.0, 0.0, 0.0, 0.0, 1.0, 0.0, 0.0, 0.0, 0.0, 0.0,\n",
       "        0.10088587806149035, 0, 0, 0, 23, 2],\n",
       "       [0.41025641025641024, 0, 0.0, 0.0, 0.0, 0.0, 1.0, 0.0, 0.0, 0.0,\n",
       "        0.0, 0.0, 0.0, 0.0, 0.0, 1.0, 0.0, 0.0, 0.0, 0.0,\n",
       "        0.05502866076081292, 1, 0, 0, 14, 5],\n",
       "       [0.4871794871794872, 0, 0.0, 0.0, 0.0, 0.0, 0.0, 0.0, 0.0, 1.0,\n",
       "        0.0, 0.0, 0.0, 0.0, 0.0, 0.0, 0.0, 0.0, 1.0, 0.0,\n",
       "        0.03835330901511204, 1, 0, 0, 6, 5],\n",
       "       [0.5384615384615385, 0, 0.0, 0.0, 1.0, 0.0, 0.0, 0.0, 0.0, 0.0,\n",
       "        0.0, 0.0, 0.0, 1.0, 0.0, 0.0, 0.0, 0.0, 0.0, 0.0,\n",
       "        0.0460656591974987, 1, 0, 1, 14, 5],\n",
       "       [0.5897435897435896, 0, 0.0, 0.0, 0.0, 0.0, 0.0, 1.0, 0.0, 0.0,\n",
       "        0.0, 0.0, 0.0, 0.0, 0.0, 0.0, 1.0, 0.0, 0.0, 0.0,\n",
       "        0.013861386138613863, 1, 1, 0, 17, 0],\n",
       "       [0.4871794871794872, 0, 0.0, 0.0, 0.0, 0.0, 0.0, 1.0, 0.0, 0.0,\n",
       "        0.0, 0.0, 0.0, 0.0, 0.0, 0.0, 1.0, 0.0, 0.0, 0.0, 1.0, 1, 0, 1,\n",
       "        20, 5],\n",
       "       [0.5897435897435896, 0, 1.0, 0.0, 0.0, 0.0, 0.0, 0.0, 0.0, 0.0,\n",
       "        0.0, 1.0, 0.0, 0.0, 0.0, 0.0, 0.0, 0.0, 0.0, 0.0,\n",
       "        0.050547159979155806, 1, 0, 0, 17, 0],\n",
       "       [0.41025641025641024, 0, 0.0, 0.0, 0.0, 0.0, 0.0, 0.0, 0.0, 1.0,\n",
       "        0.0, 0.0, 0.0, 0.0, 0.0, 0.0, 0.0, 0.0, 1.0, 0.0,\n",
       "        0.13861386138613863, 0, 0, 0, 13, 1],\n",
       "       [0.0, 1, 0.0, 0.0, 0.0, 0.0, 0.0, 0.0, 1.0, 0.0, 0.0, 0.0, 0.0,\n",
       "        0.0, 0.0, 0.0, 0.0, 1.0, 0.0, 0.0, 0.07535174570088587, 0, 0, 0,\n",
       "        30, 0],\n",
       "       [0.28205128205128205, 0, 0.0, 1.0, 0.0, 0.0, 0.0, 0.0, 0.0, 0.0,\n",
       "        0.0, 0.0, 1.0, 0.0, 0.0, 0.0, 0.0, 0.0, 0.0, 0.0,\n",
       "        0.060552371026576346, 1, 1, 0, 29, 3],\n",
       "       [0.5128205128205128, 0, 0.0, 0.0, 0.0, 1.0, 0.0, 0.0, 0.0, 0.0,\n",
       "        0.0, 0.0, 0.0, 0.0, 1.0, 0.0, 0.0, 0.0, 0.0, 0.0,\n",
       "        0.04325169359041167, 0, 1, 0, 29, 5],\n",
       "       [0.9230769230769231, 0, 0.0, 0.0, 0.0, 1.0, 0.0, 0.0, 0.0, 0.0,\n",
       "        0.0, 0.0, 0.0, 0.0, 1.0, 0.0, 0.0, 0.0, 0.0, 0.0,\n",
       "        0.44752475247524753, 0, 0, 0, 27, 1],\n",
       "       [0.4358974358974359, 0, 1.0, 0.0, 0.0, 0.0, 0.0, 0.0, 0.0, 0.0,\n",
       "        0.0, 1.0, 0.0, 0.0, 0.0, 0.0, 0.0, 0.0, 0.0, 0.0,\n",
       "        0.2645127670661803, 1, 0, 0, 20, 0],\n",
       "       [0.1282051282051282, 1, 0.0, 1.0, 0.0, 0.0, 0.0, 0.0, 0.0, 0.0,\n",
       "        0.0, 0.0, 1.0, 0.0, 0.0, 0.0, 0.0, 0.0, 0.0, 0.0, 0.0, 1, 0, 1,\n",
       "        23, 5]], dtype=object)"
      ]
     },
     "execution_count": 24,
     "metadata": {},
     "output_type": "execute_result"
    }
   ],
   "source": [
    "month_label_encoder = LabelEncoder()\n",
    "X[:, -1] = month_label_encoder.fit_transform(X[:, -1])\n",
    "X"
   ]
  },
  {
   "cell_type": "code",
   "execution_count": null,
   "metadata": {},
   "outputs": [],
   "source": []
  }
 ],
 "metadata": {
  "kernelspec": {
   "display_name": "Python 3",
   "language": "python",
   "name": "python3"
  },
  "language_info": {
   "codemirror_mode": {
    "name": "ipython",
    "version": 3
   },
   "file_extension": ".py",
   "mimetype": "text/x-python",
   "name": "python",
   "nbconvert_exporter": "python",
   "pygments_lexer": "ipython3",
   "version": "3.7.4"
  }
 },
 "nbformat": 4,
 "nbformat_minor": 2
}
