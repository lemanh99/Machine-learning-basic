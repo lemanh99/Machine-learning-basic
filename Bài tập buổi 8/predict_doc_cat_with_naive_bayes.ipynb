{
 "cells": [
  {
   "cell_type": "code",
   "execution_count": 1,
   "metadata": {},
   "outputs": [],
   "source": [
    "import cv2\n",
    "import os\n",
    "import pickle\n",
    "import numpy as np\n",
    "from sklearn.model_selection import train_test_split\n",
    "from sklearn.naive_bayes import GaussianNB\n",
    "from sklearn.metrics import accuracy_score"
   ]
  },
  {
   "cell_type": "code",
   "execution_count": 2,
   "metadata": {},
   "outputs": [],
   "source": [
    "def load_data_from_direction(root):\n",
    "    filenames = os.listdir(root)\n",
    "    data = {}\n",
    "    for name in ['dog', 'cat']:\n",
    "        data[name] = []\n",
    "    for filename in filenames:\n",
    "        name_animal = filename.split('.')[0]\n",
    "        if name_animal in data:\n",
    "            data[name_animal].append(os.path.join(root, filename))\n",
    "    return data\n",
    "    \n",
    "def save_training_data(data, feature_path = \"features.pkl\", label_path=\"labels.pkl\" ):\n",
    "    features = []\n",
    "    labels = []\n",
    "    for label, filenames in data.items():\n",
    "        for path in filenames:\n",
    "            image = cv2.imread(path)\n",
    "            image = cv2.resize(image, (64, 64))\n",
    "            image = np.reshape(image, (1, -1))\n",
    "            features.append(image)\n",
    "            if label is 'dog':\n",
    "                labels.append(1)\n",
    "            else:\n",
    "                labels.append(0)\n",
    "    with open(feature_path, 'wb') as f:\n",
    "        pickle.dump(features, f)\n",
    "    with open(label_path, 'wb') as f:\n",
    "        pickle.dump(labels, f)\n",
    "    \n",
    "    print('Load finished!!')\n",
    "        \n"
   ]
  },
  {
   "cell_type": "code",
   "execution_count": 3,
   "metadata": {},
   "outputs": [
    {
     "name": "stdout",
     "output_type": "stream",
     "text": [
      "Load finished!!\n"
     ]
    }
   ],
   "source": [
    "root = \"data/train\"\n",
    "data = load_data_from_direction(root)\n",
    "save_training_data(data)"
   ]
  },
  {
   "cell_type": "code",
   "execution_count": 4,
   "metadata": {},
   "outputs": [],
   "source": [
    "def load_training_data(feature_path = 'features.pkl', label_path = 'labels.pkl'):\n",
    "    with open(feature_path, 'rb') as f:\n",
    "        features = pickle.load(f)\n",
    "    with open(label_path, \"rb\") as f:\n",
    "        labels = pickle.load(f)\n",
    "        \n",
    "    return features, labels\n"
   ]
  },
  {
   "cell_type": "code",
   "execution_count": 5,
   "metadata": {},
   "outputs": [],
   "source": [
    "features, labels = load_training_data()"
   ]
  },
  {
   "cell_type": "code",
   "execution_count": 6,
   "metadata": {},
   "outputs": [
    {
     "name": "stdout",
     "output_type": "stream",
     "text": [
      "(1, 12288)\n"
     ]
    }
   ],
   "source": [
    "print(features[0].shape)"
   ]
  },
  {
   "cell_type": "code",
   "execution_count": 7,
   "metadata": {},
   "outputs": [],
   "source": [
    "features, labels = np.squeeze(np.asarray(features)), np.asarray(labels)"
   ]
  },
  {
   "cell_type": "code",
   "execution_count": 8,
   "metadata": {},
   "outputs": [],
   "source": [
    "training_data = np.concatenate((features, labels.reshape(-1, 1)), axis=1)\n"
   ]
  },
  {
   "cell_type": "code",
   "execution_count": 9,
   "metadata": {},
   "outputs": [],
   "source": [
    "train, test = train_test_split(training_data, test_size=0.2, shuffle=True)\n",
    "X_train, y_train = train[:, :-1], train[:, -1]\n",
    "X_test, y_test = test[:, :-1], test[:, -1]"
   ]
  },
  {
   "cell_type": "code",
   "execution_count": 10,
   "metadata": {},
   "outputs": [],
   "source": [
    "from sklearn.naive_bayes import MultinomialNB\n",
    "classifier = MultinomialNB()\n",
    "classifier.fit(X_train, y_train)\n",
    "with open(\"model.pkl\", \"wb\") as f:\n",
    "    pickle.dump(classifier, f)"
   ]
  },
  {
   "cell_type": "code",
   "execution_count": 11,
   "metadata": {},
   "outputs": [],
   "source": [
    "with open(\"model.pkl\", \"rb\") as f:\n",
    "    classifier = pickle.load(f)"
   ]
  },
  {
   "cell_type": "code",
   "execution_count": 12,
   "metadata": {},
   "outputs": [
    {
     "name": "stdout",
     "output_type": "stream",
     "text": [
      "0.5572139303482587\n"
     ]
    }
   ],
   "source": [
    "prediction = classifier.predict(X_test)\n",
    "accuracy = accuracy_score(y_test, prediction)\n",
    "print(accuracy)"
   ]
  },
  {
   "cell_type": "markdown",
   "metadata": {},
   "source": [
    "## Do e lấy ít ảnh (1505 ảnh dog và 1505 ảnh cat) mà train 0.8 nên dự đoán hơi thấp. "
   ]
  },
  {
   "cell_type": "code",
   "execution_count": null,
   "metadata": {},
   "outputs": [],
   "source": []
  }
 ],
 "metadata": {
  "kernelspec": {
   "display_name": "Python 3",
   "language": "python",
   "name": "python3"
  },
  "language_info": {
   "codemirror_mode": {
    "name": "ipython",
    "version": 3
   },
   "file_extension": ".py",
   "mimetype": "text/x-python",
   "name": "python",
   "nbconvert_exporter": "python",
   "pygments_lexer": "ipython3",
   "version": "3.7.4"
  }
 },
 "nbformat": 4,
 "nbformat_minor": 2
}
