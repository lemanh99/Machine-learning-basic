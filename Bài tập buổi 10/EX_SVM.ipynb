{
 "cells": [
  {
   "cell_type": "code",
   "execution_count": 1,
   "metadata": {},
   "outputs": [],
   "source": [
    "import numpy as np\n",
    "import pandas as pd\n",
    "from sklearn.impute import SimpleImputer\n",
    "from sklearn.preprocessing import LabelEncoder, OneHotEncoder, MinMaxScaler, StandardScaler\n",
    "from sklearn.metrics import accuracy_score"
   ]
  },
  {
   "cell_type": "code",
   "execution_count": 2,
   "metadata": {
    "scrolled": true
   },
   "outputs": [],
   "source": [
    "train_df = pd.read_csv('train.csv')\n",
    "test_df = pd.read_csv('test.csv')"
   ]
  },
  {
   "cell_type": "code",
   "execution_count": 3,
   "metadata": {},
   "outputs": [
    {
     "data": {
      "text/plain": [
       "battery_power    0\n",
       "blue             0\n",
       "clock_speed      0\n",
       "dual_sim         0\n",
       "fc               0\n",
       "four_g           0\n",
       "int_memory       0\n",
       "m_dep            0\n",
       "mobile_wt        0\n",
       "n_cores          0\n",
       "pc               0\n",
       "px_height        0\n",
       "px_width         0\n",
       "ram              0\n",
       "sc_h             0\n",
       "sc_w             0\n",
       "talk_time        0\n",
       "three_g          0\n",
       "touch_screen     0\n",
       "wifi             0\n",
       "price_range      0\n",
       "dtype: int64"
      ]
     },
     "execution_count": 3,
     "metadata": {},
     "output_type": "execute_result"
    }
   ],
   "source": [
    "train_df.isnull().sum()"
   ]
  },
  {
   "cell_type": "code",
   "execution_count": 4,
   "metadata": {},
   "outputs": [
    {
     "data": {
      "text/plain": [
       "battery_power    0\n",
       "blue             0\n",
       "clock_speed      0\n",
       "dual_sim         0\n",
       "fc               0\n",
       "four_g           0\n",
       "int_memory       0\n",
       "m_dep            0\n",
       "mobile_wt        0\n",
       "n_cores          0\n",
       "pc               0\n",
       "px_height        0\n",
       "px_width         0\n",
       "ram              0\n",
       "sc_h             0\n",
       "sc_w             0\n",
       "talk_time        0\n",
       "three_g          0\n",
       "touch_screen     0\n",
       "wifi             0\n",
       "price_range      0\n",
       "dtype: int64"
      ]
     },
     "execution_count": 4,
     "metadata": {},
     "output_type": "execute_result"
    }
   ],
   "source": [
    "test_df.isnull().sum()"
   ]
  },
  {
   "cell_type": "code",
   "execution_count": 5,
   "metadata": {},
   "outputs": [],
   "source": [
    "X_train = train_df.iloc[:, :-1]\n",
    "y_train = train_df.iloc[:, -1]\n",
    "\n",
    "X_test = test_df.iloc[:, :-1]\n",
    "y_test = test_df.iloc[:, -1]"
   ]
  },
  {
   "cell_type": "code",
   "execution_count": 6,
   "metadata": {},
   "outputs": [],
   "source": [
    "def add_columns(dataset):\n",
    "    dataset.loc[ dataset['mobile_wt'] < 100, 'weigth_mobile'] = 1\n",
    "    dataset.loc[(dataset['mobile_wt'] >= 100) & (dataset['mobile_wt'] < 130), 'weigth_mobile'] = 2\n",
    "    dataset.loc[(dataset['mobile_wt'] >= 130) & (dataset['mobile_wt'] < 160), 'weigth_mobile'] = 3\n",
    "    dataset.loc[(dataset['mobile_wt'] >= 160) & (dataset['mobile_wt'] <= 190), 'weigth_mobile'] = 4\n",
    "    dataset.loc[ dataset['mobile_wt'] > 190, 'weigth_mobile'] = 5\n",
    "    \n",
    "    dataset.loc[ dataset['px_height'] < 300, 'px_height_rate'] = 1\n",
    "    dataset.loc[(dataset['px_height'] >= 300) & (dataset['px_height'] < 600), 'px_height_rate'] = 2\n",
    "    dataset.loc[(dataset['px_height'] >= 600) & (dataset['px_height'] < 900), 'px_height_rate'] = 3\n",
    "    dataset.loc[(dataset['px_height'] >= 900) & (dataset['px_height'] <= 1200), 'px_height_rate'] = 4\n",
    "    dataset.loc[(dataset['px_height'] >= 1200) & (dataset['px_height'] <= 1500), 'px_height_rate'] = 5\n",
    "    dataset.loc[(dataset['px_height'] >= 1500) & (dataset['px_height'] <= 1800), 'px_height_rate'] = 6\n",
    "    dataset.loc[ dataset['px_height'] > 1800, 'px_height_rate'] = 7\n",
    "    \n",
    "    dataset.loc[ dataset['px_width'] < 300, 'px_width_rate'] = 1\n",
    "    dataset.loc[(dataset['px_width'] >= 300) & (dataset['px_width'] < 600), 'px_width_rate'] = 2\n",
    "    dataset.loc[(dataset['px_width'] >= 600) & (dataset['px_width'] < 900), 'px_width_rate'] = 3\n",
    "    dataset.loc[(dataset['px_width'] >= 900) & (dataset['px_width'] <= 1200), 'px_width_rate'] = 4\n",
    "    dataset.loc[(dataset['px_width'] >= 1200) & (dataset['px_width'] <= 1500), 'px_width_rate'] = 5\n",
    "    dataset.loc[(dataset['px_width'] >= 1500) & (dataset['px_width'] <= 1800), 'px_width_rate'] = 6\n",
    "    dataset.loc[ dataset['px_width'] > 1800, 'px_width_rate'] = 7\n",
    "    \n",
    "#     dataset.loc[ dataset['ram'] < 512, 'ram_rate'] = 1\n",
    "#     dataset.loc[(dataset['ram'] >= 512) & (dataset['ram'] < 1024), 'ram_rate'] = 2\n",
    "#     dataset.loc[(dataset['ram'] >= 1024) & (dataset['ram'] < 2048), 'ram_rate'] = 3\n",
    "#     dataset.loc[ dataset['ram'] >= 2048, 'ram_rate'] = 4\n",
    "    \n",
    "    return dataset"
   ]
  },
  {
   "cell_type": "code",
   "execution_count": 7,
   "metadata": {},
   "outputs": [
    {
     "data": {
      "text/html": [
       "<div>\n",
       "<style scoped>\n",
       "    .dataframe tbody tr th:only-of-type {\n",
       "        vertical-align: middle;\n",
       "    }\n",
       "\n",
       "    .dataframe tbody tr th {\n",
       "        vertical-align: top;\n",
       "    }\n",
       "\n",
       "    .dataframe thead th {\n",
       "        text-align: right;\n",
       "    }\n",
       "</style>\n",
       "<table border=\"1\" class=\"dataframe\">\n",
       "  <thead>\n",
       "    <tr style=\"text-align: right;\">\n",
       "      <th></th>\n",
       "      <th>battery_power</th>\n",
       "      <th>blue</th>\n",
       "      <th>clock_speed</th>\n",
       "      <th>dual_sim</th>\n",
       "      <th>fc</th>\n",
       "      <th>four_g</th>\n",
       "      <th>int_memory</th>\n",
       "      <th>m_dep</th>\n",
       "      <th>mobile_wt</th>\n",
       "      <th>n_cores</th>\n",
       "      <th>...</th>\n",
       "      <th>ram</th>\n",
       "      <th>sc_h</th>\n",
       "      <th>sc_w</th>\n",
       "      <th>talk_time</th>\n",
       "      <th>three_g</th>\n",
       "      <th>touch_screen</th>\n",
       "      <th>wifi</th>\n",
       "      <th>weigth_mobile</th>\n",
       "      <th>px_height_rate</th>\n",
       "      <th>px_width_rate</th>\n",
       "    </tr>\n",
       "  </thead>\n",
       "  <tbody>\n",
       "    <tr>\n",
       "      <th>0</th>\n",
       "      <td>1923</td>\n",
       "      <td>0</td>\n",
       "      <td>0.5</td>\n",
       "      <td>1</td>\n",
       "      <td>7</td>\n",
       "      <td>0</td>\n",
       "      <td>46</td>\n",
       "      <td>0.5</td>\n",
       "      <td>191</td>\n",
       "      <td>1</td>\n",
       "      <td>...</td>\n",
       "      <td>1489</td>\n",
       "      <td>10</td>\n",
       "      <td>9</td>\n",
       "      <td>3</td>\n",
       "      <td>1</td>\n",
       "      <td>1</td>\n",
       "      <td>1</td>\n",
       "      <td>5.0</td>\n",
       "      <td>3.0</td>\n",
       "      <td>6.0</td>\n",
       "    </tr>\n",
       "    <tr>\n",
       "      <th>1</th>\n",
       "      <td>633</td>\n",
       "      <td>1</td>\n",
       "      <td>2.2</td>\n",
       "      <td>0</td>\n",
       "      <td>0</td>\n",
       "      <td>1</td>\n",
       "      <td>49</td>\n",
       "      <td>0.1</td>\n",
       "      <td>139</td>\n",
       "      <td>8</td>\n",
       "      <td>...</td>\n",
       "      <td>3560</td>\n",
       "      <td>11</td>\n",
       "      <td>1</td>\n",
       "      <td>16</td>\n",
       "      <td>1</td>\n",
       "      <td>1</td>\n",
       "      <td>1</td>\n",
       "      <td>3.0</td>\n",
       "      <td>2.0</td>\n",
       "      <td>4.0</td>\n",
       "    </tr>\n",
       "    <tr>\n",
       "      <th>2</th>\n",
       "      <td>1236</td>\n",
       "      <td>0</td>\n",
       "      <td>0.9</td>\n",
       "      <td>1</td>\n",
       "      <td>2</td>\n",
       "      <td>1</td>\n",
       "      <td>57</td>\n",
       "      <td>0.1</td>\n",
       "      <td>188</td>\n",
       "      <td>1</td>\n",
       "      <td>...</td>\n",
       "      <td>1406</td>\n",
       "      <td>14</td>\n",
       "      <td>12</td>\n",
       "      <td>20</td>\n",
       "      <td>1</td>\n",
       "      <td>0</td>\n",
       "      <td>1</td>\n",
       "      <td>4.0</td>\n",
       "      <td>2.0</td>\n",
       "      <td>3.0</td>\n",
       "    </tr>\n",
       "    <tr>\n",
       "      <th>3</th>\n",
       "      <td>781</td>\n",
       "      <td>0</td>\n",
       "      <td>1.1</td>\n",
       "      <td>0</td>\n",
       "      <td>2</td>\n",
       "      <td>0</td>\n",
       "      <td>38</td>\n",
       "      <td>0.4</td>\n",
       "      <td>198</td>\n",
       "      <td>5</td>\n",
       "      <td>...</td>\n",
       "      <td>3508</td>\n",
       "      <td>13</td>\n",
       "      <td>8</td>\n",
       "      <td>5</td>\n",
       "      <td>0</td>\n",
       "      <td>0</td>\n",
       "      <td>1</td>\n",
       "      <td>5.0</td>\n",
       "      <td>2.0</td>\n",
       "      <td>6.0</td>\n",
       "    </tr>\n",
       "    <tr>\n",
       "      <th>4</th>\n",
       "      <td>1456</td>\n",
       "      <td>1</td>\n",
       "      <td>0.5</td>\n",
       "      <td>1</td>\n",
       "      <td>7</td>\n",
       "      <td>0</td>\n",
       "      <td>7</td>\n",
       "      <td>0.4</td>\n",
       "      <td>105</td>\n",
       "      <td>5</td>\n",
       "      <td>...</td>\n",
       "      <td>1587</td>\n",
       "      <td>6</td>\n",
       "      <td>5</td>\n",
       "      <td>20</td>\n",
       "      <td>1</td>\n",
       "      <td>0</td>\n",
       "      <td>1</td>\n",
       "      <td>2.0</td>\n",
       "      <td>3.0</td>\n",
       "      <td>4.0</td>\n",
       "    </tr>\n",
       "  </tbody>\n",
       "</table>\n",
       "<p>5 rows × 23 columns</p>\n",
       "</div>"
      ],
      "text/plain": [
       "   battery_power  blue  clock_speed  dual_sim  fc  four_g  int_memory  m_dep  \\\n",
       "0           1923     0          0.5         1   7       0          46    0.5   \n",
       "1            633     1          2.2         0   0       1          49    0.1   \n",
       "2           1236     0          0.9         1   2       1          57    0.1   \n",
       "3            781     0          1.1         0   2       0          38    0.4   \n",
       "4           1456     1          0.5         1   7       0           7    0.4   \n",
       "\n",
       "   mobile_wt  n_cores  ...   ram  sc_h  sc_w  talk_time  three_g  \\\n",
       "0        191        1  ...  1489    10     9          3        1   \n",
       "1        139        8  ...  3560    11     1         16        1   \n",
       "2        188        1  ...  1406    14    12         20        1   \n",
       "3        198        5  ...  3508    13     8          5        0   \n",
       "4        105        5  ...  1587     6     5         20        1   \n",
       "\n",
       "   touch_screen  wifi  weigth_mobile  px_height_rate  px_width_rate  \n",
       "0             1     1            5.0             3.0            6.0  \n",
       "1             1     1            3.0             2.0            4.0  \n",
       "2             0     1            4.0             2.0            3.0  \n",
       "3             0     1            5.0             2.0            6.0  \n",
       "4             0     1            2.0             3.0            4.0  \n",
       "\n",
       "[5 rows x 23 columns]"
      ]
     },
     "execution_count": 7,
     "metadata": {},
     "output_type": "execute_result"
    }
   ],
   "source": [
    "X_train = add_columns(X_train)\n",
    "X_test = add_columns(X_test)\n",
    "\n",
    "X_train.head()"
   ]
  },
  {
   "cell_type": "code",
   "execution_count": 8,
   "metadata": {},
   "outputs": [],
   "source": [
    "X_train = X_train.values\n",
    "y_train = y_train.values\n",
    "\n",
    "X_test = X_test.values\n",
    "y_test = y_test.values"
   ]
  },
  {
   "cell_type": "code",
   "execution_count": 9,
   "metadata": {},
   "outputs": [],
   "source": [
    "def Normalize(X, y):\n",
    "    minmax_scaler = MinMaxScaler()\n",
    "    stander_scaler = StandardScaler()\n",
    "    \n",
    "    X[:, 0] = minmax_scaler.fit_transform(X[:, 0].reshape(-1, 1)).ravel() #battery_power\n",
    "    X[:, 8] = minmax_scaler.fit_transform(X[:, 8].reshape(-1, 1)).ravel()#mobile_wt\n",
    "    \n",
    "    X[:, 11] = minmax_scaler.fit_transform(X[:, 11].reshape(-1, 1)).ravel()#px_height\n",
    "    X[:, 12] = minmax_scaler.fit_transform(X[:, 12].reshape(-1, 1)).ravel() #px_width\n",
    "    X[:, 13] = minmax_scaler.fit_transform(X[:, 13].reshape(-1, 1)).ravel()#ram\n",
    "    \n",
    "    return X, y"
   ]
  },
  {
   "cell_type": "code",
   "execution_count": 10,
   "metadata": {},
   "outputs": [],
   "source": [
    "X_train, y_train = Normalize(X_train, y_train)\n",
    "X_test, y_test = Normalize(X_test, y_test)"
   ]
  },
  {
   "cell_type": "code",
   "execution_count": 11,
   "metadata": {},
   "outputs": [
    {
     "name": "stdout",
     "output_type": "stream",
     "text": [
      "(1600, 23) (1600,) (400, 23) (400,)\n",
      "[ 0.9498998   0.          0.5         1.          7.          0.\n",
      " 46.          0.5         0.925       1.         10.          0.39132653\n",
      "  0.84045394  0.32914439 10.          9.          3.          1.\n",
      "  1.          1.          5.          3.          6.        ]\n"
     ]
    }
   ],
   "source": [
    "print(X_train.shape, y_train.shape, X_test.shape, y_test.shape)\n",
    "print(X_train[0])"
   ]
  },
  {
   "cell_type": "code",
   "execution_count": 12,
   "metadata": {},
   "outputs": [
    {
     "data": {
      "text/plain": [
       "SVC(C=1000, break_ties=False, cache_size=200, class_weight=None, coef0=0.0,\n",
       "    decision_function_shape='ovr', degree=3, gamma='scale', kernel='linear',\n",
       "    max_iter=-1, probability=False, random_state=None, shrinking=True,\n",
       "    tol=0.001, verbose=False)"
      ]
     },
     "execution_count": 12,
     "metadata": {},
     "output_type": "execute_result"
    }
   ],
   "source": [
    "from sklearn.svm import SVC\n",
    "\n",
    "# clf = SVC(kernel='linear', verbose=True)\n",
    "clf = SVC(kernel='linear', C = 1000)\n",
    "clf.fit(X_train, y_train)"
   ]
  },
  {
   "cell_type": "code",
   "execution_count": 13,
   "metadata": {},
   "outputs": [],
   "source": [
    "y_pred = clf.predict(X_test)"
   ]
  },
  {
   "cell_type": "code",
   "execution_count": 14,
   "metadata": {},
   "outputs": [
    {
     "name": "stdout",
     "output_type": "stream",
     "text": [
      "Accuracy_score: 0.975\n"
     ]
    }
   ],
   "source": [
    "print(\"Accuracy_score:\", accuracy_score(y_test, y_pred))"
   ]
  },
  {
   "cell_type": "code",
   "execution_count": null,
   "metadata": {},
   "outputs": [],
   "source": []
  }
 ],
 "metadata": {
  "kernelspec": {
   "display_name": "Python 3",
   "language": "python",
   "name": "python3"
  },
  "language_info": {
   "codemirror_mode": {
    "name": "ipython",
    "version": 3
   },
   "file_extension": ".py",
   "mimetype": "text/x-python",
   "name": "python",
   "nbconvert_exporter": "python",
   "pygments_lexer": "ipython3",
   "version": "3.7.6"
  }
 },
 "nbformat": 4,
 "nbformat_minor": 4
}
