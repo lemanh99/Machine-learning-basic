{
 "cells": [
  {
   "cell_type": "code",
   "execution_count": 1,
   "metadata": {},
   "outputs": [],
   "source": [
    "import pandas as pd\n",
    "import numpy as np\n",
    "from sklearn.impute import SimpleImputer\n",
    "from sklearn.preprocessing import StandardScaler, MinMaxScaler\n",
    "from sklearn.preprocessing import LabelEncoder, OneHotEncoder\n",
    "from sklearn.linear_model import LinearRegression, Ridge, Lasso\n",
    "from sklearn.metrics import mean_squared_error"
   ]
  },
  {
   "cell_type": "code",
   "execution_count": 2,
   "metadata": {},
   "outputs": [],
   "source": [
    "def DataframetoArray(dataframe):\n",
    "    feature_columns = ['Car_Name', 'Year', 'Present_Price', 'Kms_Driven',\n",
    "       'Fuel_Type', 'Seller_Type', 'Transmission', 'Owner']\n",
    "    label_columns = 'Selling_Price'\n",
    "\n",
    "    features = dataframe.loc[:, feature_columns]\n",
    "    label = dataframe.loc[:, label_columns]\n",
    "    X = features.values\n",
    "    y = label.values\n",
    "    return X, y"
   ]
  },
  {
   "cell_type": "markdown",
   "metadata": {},
   "source": [
    "# car_price_train"
   ]
  },
  {
   "cell_type": "code",
   "execution_count": 3,
   "metadata": {},
   "outputs": [
    {
     "name": "stdout",
     "output_type": "stream",
     "text": [
      "Car_Name         4\n",
      "Year             0\n",
      "Selling_Price    0\n",
      "Present_Price    3\n",
      "Kms_Driven       8\n",
      "Fuel_Type        3\n",
      "Seller_Type      3\n",
      "Transmission     1\n",
      "Owner            0\n",
      "dtype: int64\n"
     ]
    },
    {
     "data": {
      "text/html": [
       "<div>\n",
       "<style scoped>\n",
       "    .dataframe tbody tr th:only-of-type {\n",
       "        vertical-align: middle;\n",
       "    }\n",
       "\n",
       "    .dataframe tbody tr th {\n",
       "        vertical-align: top;\n",
       "    }\n",
       "\n",
       "    .dataframe thead th {\n",
       "        text-align: right;\n",
       "    }\n",
       "</style>\n",
       "<table border=\"1\" class=\"dataframe\">\n",
       "  <thead>\n",
       "    <tr style=\"text-align: right;\">\n",
       "      <th></th>\n",
       "      <th>Car_Name</th>\n",
       "      <th>Year</th>\n",
       "      <th>Selling_Price</th>\n",
       "      <th>Present_Price</th>\n",
       "      <th>Kms_Driven</th>\n",
       "      <th>Fuel_Type</th>\n",
       "      <th>Seller_Type</th>\n",
       "      <th>Transmission</th>\n",
       "      <th>Owner</th>\n",
       "    </tr>\n",
       "  </thead>\n",
       "  <tbody>\n",
       "    <tr>\n",
       "      <td>0</td>\n",
       "      <td>Bajaj Pulsar 150</td>\n",
       "      <td>2008.0</td>\n",
       "      <td>0.25</td>\n",
       "      <td>NaN</td>\n",
       "      <td>NaN</td>\n",
       "      <td>Petrol</td>\n",
       "      <td>NaN</td>\n",
       "      <td>Manual</td>\n",
       "      <td>1.0</td>\n",
       "    </tr>\n",
       "    <tr>\n",
       "      <td>1</td>\n",
       "      <td>Bajaj Avenger 220</td>\n",
       "      <td>2017.0</td>\n",
       "      <td>0.75</td>\n",
       "      <td>0.950</td>\n",
       "      <td>3500</td>\n",
       "      <td>Petrol</td>\n",
       "      <td>Individual</td>\n",
       "      <td>Manual</td>\n",
       "      <td>0.0</td>\n",
       "    </tr>\n",
       "    <tr>\n",
       "      <td>2</td>\n",
       "      <td>Hero  CBZ Xtreme</td>\n",
       "      <td>2008.0</td>\n",
       "      <td>0.20</td>\n",
       "      <td>0.787</td>\n",
       "      <td>NaN</td>\n",
       "      <td>Petrol</td>\n",
       "      <td>Individual</td>\n",
       "      <td>Manual</td>\n",
       "      <td>0.0</td>\n",
       "    </tr>\n",
       "    <tr>\n",
       "      <td>3</td>\n",
       "      <td>etios g</td>\n",
       "      <td>2015.0</td>\n",
       "      <td>3.95</td>\n",
       "      <td>6.800</td>\n",
       "      <td>36000</td>\n",
       "      <td>Petrol</td>\n",
       "      <td>Dealer</td>\n",
       "      <td>Manual</td>\n",
       "      <td>0.0</td>\n",
       "    </tr>\n",
       "    <tr>\n",
       "      <td>4</td>\n",
       "      <td>Royal Enfield Thunder 350</td>\n",
       "      <td>2016.0</td>\n",
       "      <td>1.15</td>\n",
       "      <td>1.500</td>\n",
       "      <td>8700</td>\n",
       "      <td>Petrol</td>\n",
       "      <td>Individual</td>\n",
       "      <td>Manual</td>\n",
       "      <td>0.0</td>\n",
       "    </tr>\n",
       "    <tr>\n",
       "      <td>...</td>\n",
       "      <td>...</td>\n",
       "      <td>...</td>\n",
       "      <td>...</td>\n",
       "      <td>...</td>\n",
       "      <td>...</td>\n",
       "      <td>...</td>\n",
       "      <td>...</td>\n",
       "      <td>...</td>\n",
       "      <td>...</td>\n",
       "    </tr>\n",
       "    <tr>\n",
       "      <td>235</td>\n",
       "      <td>Hero Glamour</td>\n",
       "      <td>2013.0</td>\n",
       "      <td>0.25</td>\n",
       "      <td>0.570</td>\n",
       "      <td>18000</td>\n",
       "      <td>Petrol</td>\n",
       "      <td>Individual</td>\n",
       "      <td>Manual</td>\n",
       "      <td>0.0</td>\n",
       "    </tr>\n",
       "    <tr>\n",
       "      <td>236</td>\n",
       "      <td>corolla altis</td>\n",
       "      <td>2011.0</td>\n",
       "      <td>4.50</td>\n",
       "      <td>12.480</td>\n",
       "      <td>45000</td>\n",
       "      <td>Diesel</td>\n",
       "      <td>Dealer</td>\n",
       "      <td>Manual</td>\n",
       "      <td>0.0</td>\n",
       "    </tr>\n",
       "    <tr>\n",
       "      <td>237</td>\n",
       "      <td>Hyosung GT250R</td>\n",
       "      <td>2014.0</td>\n",
       "      <td>1.35</td>\n",
       "      <td>3.450</td>\n",
       "      <td>16500</td>\n",
       "      <td>Petrol</td>\n",
       "      <td>Individual</td>\n",
       "      <td>Manual</td>\n",
       "      <td>1.0</td>\n",
       "    </tr>\n",
       "    <tr>\n",
       "      <td>238</td>\n",
       "      <td>city</td>\n",
       "      <td>2011.0</td>\n",
       "      <td>4.10</td>\n",
       "      <td>10.000</td>\n",
       "      <td>69341</td>\n",
       "      <td>Petrol</td>\n",
       "      <td>Dealer</td>\n",
       "      <td>Manual</td>\n",
       "      <td>0.0</td>\n",
       "    </tr>\n",
       "    <tr>\n",
       "      <td>239</td>\n",
       "      <td>KTM RC200</td>\n",
       "      <td>2017.0</td>\n",
       "      <td>1.65</td>\n",
       "      <td>1.780</td>\n",
       "      <td>4000</td>\n",
       "      <td>Petrol</td>\n",
       "      <td>Individual</td>\n",
       "      <td>Manual</td>\n",
       "      <td>0.0</td>\n",
       "    </tr>\n",
       "  </tbody>\n",
       "</table>\n",
       "<p>239 rows × 9 columns</p>\n",
       "</div>"
      ],
      "text/plain": [
       "                      Car_Name    Year  Selling_Price  Present_Price  \\\n",
       "0             Bajaj Pulsar 150  2008.0           0.25            NaN   \n",
       "1            Bajaj Avenger 220  2017.0           0.75          0.950   \n",
       "2             Hero  CBZ Xtreme  2008.0           0.20          0.787   \n",
       "3                      etios g  2015.0           3.95          6.800   \n",
       "4    Royal Enfield Thunder 350  2016.0           1.15          1.500   \n",
       "..                         ...     ...            ...            ...   \n",
       "235               Hero Glamour  2013.0           0.25          0.570   \n",
       "236              corolla altis  2011.0           4.50         12.480   \n",
       "237             Hyosung GT250R  2014.0           1.35          3.450   \n",
       "238                       city  2011.0           4.10         10.000   \n",
       "239                  KTM RC200  2017.0           1.65          1.780   \n",
       "\n",
       "    Kms_Driven Fuel_Type Seller_Type Transmission  Owner  \n",
       "0          NaN    Petrol         NaN       Manual    1.0  \n",
       "1         3500    Petrol  Individual       Manual    0.0  \n",
       "2          NaN    Petrol  Individual       Manual    0.0  \n",
       "3        36000    Petrol      Dealer       Manual    0.0  \n",
       "4         8700    Petrol  Individual       Manual    0.0  \n",
       "..         ...       ...         ...          ...    ...  \n",
       "235      18000    Petrol  Individual       Manual    0.0  \n",
       "236      45000    Diesel      Dealer       Manual    0.0  \n",
       "237      16500    Petrol  Individual       Manual    1.0  \n",
       "238      69341    Petrol      Dealer       Manual    0.0  \n",
       "239       4000    Petrol  Individual       Manual    0.0  \n",
       "\n",
       "[239 rows x 9 columns]"
      ]
     },
     "execution_count": 3,
     "metadata": {},
     "output_type": "execute_result"
    }
   ],
   "source": [
    "df_train = pd.read_csv('car_price_train.csv')\n",
    "df_train.head()\n",
    "# print(df_train.iloc[104, :]) #Kms_Driver is CNG\n",
    "df_train = df_train.drop([104])\n",
    "# df_train.columns\n",
    "# df_train.shape\n",
    "print(df_train.isnull().sum())\n",
    "df_train"
   ]
  },
  {
   "cell_type": "markdown",
   "metadata": {},
   "source": [
    "# car_price_test"
   ]
  },
  {
   "cell_type": "code",
   "execution_count": 4,
   "metadata": {},
   "outputs": [
    {
     "name": "stdout",
     "output_type": "stream",
     "text": [
      "(61, 9)\n"
     ]
    },
    {
     "data": {
      "text/plain": [
       "Car_Name         0\n",
       "Year             0\n",
       "Selling_Price    0\n",
       "Present_Price    0\n",
       "Kms_Driven       0\n",
       "Fuel_Type        0\n",
       "Seller_Type      0\n",
       "Transmission     0\n",
       "Owner            0\n",
       "dtype: int64"
      ]
     },
     "execution_count": 4,
     "metadata": {},
     "output_type": "execute_result"
    }
   ],
   "source": [
    "df_test = pd.read_csv('car_price_test.csv')\n",
    "print(df_test.shape)\n",
    "df_test.isnull().sum()"
   ]
  },
  {
   "cell_type": "code",
   "execution_count": 5,
   "metadata": {},
   "outputs": [],
   "source": [
    "X_train, y_train =  DataframetoArray(df_train)\n",
    "X_test, y_test =  DataframetoArray(df_test)"
   ]
  },
  {
   "cell_type": "markdown",
   "metadata": {},
   "source": [
    "# Missing value train"
   ]
  },
  {
   "cell_type": "code",
   "execution_count": 6,
   "metadata": {},
   "outputs": [
    {
     "data": {
      "text/plain": [
       "Car_Name         4\n",
       "Year             0\n",
       "Selling_Price    0\n",
       "Present_Price    3\n",
       "Kms_Driven       8\n",
       "Fuel_Type        3\n",
       "Seller_Type      3\n",
       "Transmission     1\n",
       "Owner            0\n",
       "dtype: int64"
      ]
     },
     "execution_count": 6,
     "metadata": {},
     "output_type": "execute_result"
    }
   ],
   "source": [
    "df_train.isnull().sum()"
   ]
  },
  {
   "cell_type": "code",
   "execution_count": 7,
   "metadata": {},
   "outputs": [],
   "source": [
    "car_name_impute = SimpleImputer(np.nan, strategy = 'most_frequent')\n",
    "X_train[:, 0] = car_name_impute.fit_transform(X_train[:, 0].reshape(-1, 1)).ravel()"
   ]
  },
  {
   "cell_type": "code",
   "execution_count": 8,
   "metadata": {},
   "outputs": [],
   "source": [
    "present_price_imputer = SimpleImputer(np.nan, strategy = 'mean')\n",
    "X_train[:, 2] = present_price_imputer.fit_transform(X_train[:, 2].reshape(-1, 1)).ravel()"
   ]
  },
  {
   "cell_type": "code",
   "execution_count": 9,
   "metadata": {},
   "outputs": [],
   "source": [
    "kms_driven_imputer = SimpleImputer(np.nan, strategy = 'mean')\n",
    "X_train[:, 3] = present_price_imputer.fit_transform(X_train[:, 3].reshape(-1, 1)).ravel()"
   ]
  },
  {
   "cell_type": "code",
   "execution_count": 10,
   "metadata": {},
   "outputs": [],
   "source": [
    "value_imputer = SimpleImputer(np.nan, strategy = 'most_frequent')\n",
    "X_train[:, 4:8] = value_imputer.fit_transform(X_train[:, 4:8])"
   ]
  },
  {
   "cell_type": "code",
   "execution_count": 11,
   "metadata": {},
   "outputs": [
    {
     "name": "stdout",
     "output_type": "stream",
     "text": [
      "Car_Name         0\n",
      "Year             0\n",
      "Present_Price    0\n",
      "Kms_Driven       0\n",
      "Fuel_Type        0\n",
      "Seller_Type      0\n",
      "Transmission     0\n",
      "Owner            0\n",
      "dtype: int64\n"
     ]
    },
    {
     "data": {
      "text/html": [
       "<div>\n",
       "<style scoped>\n",
       "    .dataframe tbody tr th:only-of-type {\n",
       "        vertical-align: middle;\n",
       "    }\n",
       "\n",
       "    .dataframe tbody tr th {\n",
       "        vertical-align: top;\n",
       "    }\n",
       "\n",
       "    .dataframe thead th {\n",
       "        text-align: right;\n",
       "    }\n",
       "</style>\n",
       "<table border=\"1\" class=\"dataframe\">\n",
       "  <thead>\n",
       "    <tr style=\"text-align: right;\">\n",
       "      <th></th>\n",
       "      <th>Car_Name</th>\n",
       "      <th>Year</th>\n",
       "      <th>Present_Price</th>\n",
       "      <th>Kms_Driven</th>\n",
       "      <th>Fuel_Type</th>\n",
       "      <th>Seller_Type</th>\n",
       "      <th>Transmission</th>\n",
       "      <th>Owner</th>\n",
       "    </tr>\n",
       "  </thead>\n",
       "  <tbody>\n",
       "    <tr>\n",
       "      <td>0</td>\n",
       "      <td>Bajaj Pulsar 150</td>\n",
       "      <td>2008.0</td>\n",
       "      <td>7.532852</td>\n",
       "      <td>37498.077922</td>\n",
       "      <td>Petrol</td>\n",
       "      <td>Dealer</td>\n",
       "      <td>Manual</td>\n",
       "      <td>1.0</td>\n",
       "    </tr>\n",
       "    <tr>\n",
       "      <td>1</td>\n",
       "      <td>Bajaj Avenger 220</td>\n",
       "      <td>2017.0</td>\n",
       "      <td>0.950000</td>\n",
       "      <td>3500.000000</td>\n",
       "      <td>Petrol</td>\n",
       "      <td>Individual</td>\n",
       "      <td>Manual</td>\n",
       "      <td>0.0</td>\n",
       "    </tr>\n",
       "    <tr>\n",
       "      <td>2</td>\n",
       "      <td>Hero  CBZ Xtreme</td>\n",
       "      <td>2008.0</td>\n",
       "      <td>0.787000</td>\n",
       "      <td>37498.077922</td>\n",
       "      <td>Petrol</td>\n",
       "      <td>Individual</td>\n",
       "      <td>Manual</td>\n",
       "      <td>0.0</td>\n",
       "    </tr>\n",
       "    <tr>\n",
       "      <td>3</td>\n",
       "      <td>etios g</td>\n",
       "      <td>2015.0</td>\n",
       "      <td>6.800000</td>\n",
       "      <td>36000.000000</td>\n",
       "      <td>Petrol</td>\n",
       "      <td>Dealer</td>\n",
       "      <td>Manual</td>\n",
       "      <td>0.0</td>\n",
       "    </tr>\n",
       "    <tr>\n",
       "      <td>4</td>\n",
       "      <td>Royal Enfield Thunder 350</td>\n",
       "      <td>2016.0</td>\n",
       "      <td>1.500000</td>\n",
       "      <td>8700.000000</td>\n",
       "      <td>Petrol</td>\n",
       "      <td>Individual</td>\n",
       "      <td>Manual</td>\n",
       "      <td>0.0</td>\n",
       "    </tr>\n",
       "  </tbody>\n",
       "</table>\n",
       "</div>"
      ],
      "text/plain": [
       "                    Car_Name    Year  Present_Price    Kms_Driven Fuel_Type  \\\n",
       "0           Bajaj Pulsar 150  2008.0       7.532852  37498.077922    Petrol   \n",
       "1          Bajaj Avenger 220  2017.0       0.950000   3500.000000    Petrol   \n",
       "2           Hero  CBZ Xtreme  2008.0       0.787000  37498.077922    Petrol   \n",
       "3                    etios g  2015.0       6.800000  36000.000000    Petrol   \n",
       "4  Royal Enfield Thunder 350  2016.0       1.500000   8700.000000    Petrol   \n",
       "\n",
       "  Seller_Type Transmission  Owner  \n",
       "0      Dealer       Manual    1.0  \n",
       "1  Individual       Manual    0.0  \n",
       "2  Individual       Manual    0.0  \n",
       "3      Dealer       Manual    0.0  \n",
       "4  Individual       Manual    0.0  "
      ]
     },
     "execution_count": 11,
     "metadata": {},
     "output_type": "execute_result"
    }
   ],
   "source": [
    "new_df = pd.DataFrame.from_records(X_train, columns = ['Car_Name', 'Year', 'Present_Price', 'Kms_Driven',\n",
    "       'Fuel_Type', 'Seller_Type', 'Transmission', 'Owner'])\n",
    "print(new_df.isnull().sum())\n",
    "new_df.head()"
   ]
  },
  {
   "cell_type": "markdown",
   "metadata": {},
   "source": [
    "# Normalize"
   ]
  },
  {
   "cell_type": "code",
   "execution_count": 12,
   "metadata": {},
   "outputs": [],
   "source": [
    "def Normalize(X, y):\n",
    "    \n",
    "    #Year\n",
    "    minmax_scaler = MinMaxScaler()\n",
    "    standar_scaler = StandardScaler()\n",
    "    X[:, 1] = minmax_scaler.fit_transform(X[:, 1].reshape(-1, 1)).ravel()\n",
    "    # Kms_Driven\n",
    "    X[:, 3] = minmax_scaler.fit_transform(X[:, 3].reshape(-1, 1)).ravel()\n",
    "    \n",
    "    #Seller_Type\n",
    "    label_encoder = LabelEncoder()\n",
    "    X[:, 5] = label_encoder.fit_transform(X[:, 5])\n",
    "    \n",
    "    #Transmission\n",
    "    X[:, -2] = label_encoder.fit_transform(X[:, -2])\n",
    "    \n",
    "    #Fuel_Type\n",
    "    X[:, 4] = label_encoder.fit_transform(X[:, 4])\n",
    "    \n",
    "#     X = np.delete(X, 4, axis = 1)\n",
    "    X = np.delete(X, 0, axis = 1)\n",
    "    return X, y\n",
    "    "
   ]
  },
  {
   "cell_type": "code",
   "execution_count": 13,
   "metadata": {},
   "outputs": [],
   "source": [
    "X_train, y_train = Normalize(X_train, y_train)\n",
    "X_test, y_test = Normalize(X_test, y_test)"
   ]
  },
  {
   "cell_type": "markdown",
   "metadata": {},
   "source": [
    "# Train model"
   ]
  },
  {
   "cell_type": "markdown",
   "metadata": {},
   "source": [
    "## Linear"
   ]
  },
  {
   "cell_type": "code",
   "execution_count": 14,
   "metadata": {},
   "outputs": [
    {
     "name": "stdout",
     "output_type": "stream",
     "text": [
      "Root Mean Square Error Train: 1.7337912299055822\n",
      "Root Mean Square Error Test: 1.9840616237461337\n"
     ]
    }
   ],
   "source": [
    "linear = LinearRegression()\n",
    "linear.fit(X_train, y_train)\n",
    "\n",
    "predict_train = linear.predict(X_train)\n",
    "print(\"Root Mean Square Error Train: {}\".format(np.sqrt(mean_squared_error(y_train, predict_train))))\n",
    "predict_test = linear.predict(X_test)\n",
    "print(\"Root Mean Square Error Test: {}\".format(np.sqrt(mean_squared_error(y_test, predict_test))))"
   ]
  },
  {
   "cell_type": "markdown",
   "metadata": {},
   "source": [
    "## Rigde"
   ]
  },
  {
   "cell_type": "code",
   "execution_count": 15,
   "metadata": {},
   "outputs": [
    {
     "name": "stdout",
     "output_type": "stream",
     "text": [
      "Root Mean Square Error Train: 1.733854770093382\n",
      "Root Mean Square Error Test: 1.9840616237461337\n"
     ]
    }
   ],
   "source": [
    "ridge = Ridge(alpha = 0.1)\n",
    "ridge.fit(X_train, y_train)\n",
    "\n",
    "predict_train = ridge.predict(X_train)\n",
    "print(\"Root Mean Square Error Train: {}\".format(np.sqrt(mean_squared_error(y_train, predict_train))))\n",
    "\n",
    "# predict_test = ridge.predict(X_test)\n",
    "print(\"Root Mean Square Error Test: {}\".format(np.sqrt(mean_squared_error(y_test, predict_test))))"
   ]
  },
  {
   "cell_type": "markdown",
   "metadata": {},
   "source": [
    "## Lasso"
   ]
  },
  {
   "cell_type": "code",
   "execution_count": 16,
   "metadata": {},
   "outputs": [
    {
     "name": "stdout",
     "output_type": "stream",
     "text": [
      "Root Mean Square Error: 1.8851016077227758\n",
      "Root Mean Square Error: 2.1900871250214045\n"
     ]
    }
   ],
   "source": [
    "lasso = Lasso(alpha = 0.1)\n",
    "lasso.fit(X_train, y_train)\n",
    "\n",
    "predict_train = lasso.predict(X_train)\n",
    "predict_test = lasso.predict(X_test)\n",
    "\n",
    "print(\"Root Mean Square Error: {}\".format(np.sqrt(mean_squared_error(y_train, predict_train))))\n",
    "print(\"Root Mean Square Error: {}\".format(np.sqrt(mean_squared_error(y_test, predict_test))))"
   ]
  },
  {
   "cell_type": "code",
   "execution_count": null,
   "metadata": {},
   "outputs": [],
   "source": []
  }
 ],
 "metadata": {
  "kernelspec": {
   "display_name": "Python 3",
   "language": "python",
   "name": "python3"
  },
  "language_info": {
   "codemirror_mode": {
    "name": "ipython",
    "version": 3
   },
   "file_extension": ".py",
   "mimetype": "text/x-python",
   "name": "python",
   "nbconvert_exporter": "python",
   "pygments_lexer": "ipython3",
   "version": "3.7.4"
  }
 },
 "nbformat": 4,
 "nbformat_minor": 2
}
