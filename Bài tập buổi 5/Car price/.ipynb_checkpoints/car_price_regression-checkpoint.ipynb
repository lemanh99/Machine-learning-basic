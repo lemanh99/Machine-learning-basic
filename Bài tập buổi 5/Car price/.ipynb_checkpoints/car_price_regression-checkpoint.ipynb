{
 "cells": [
  {
   "cell_type": "code",
   "execution_count": 1,
   "metadata": {},
   "outputs": [],
   "source": [
    "import pandas as pd\n",
    "import numpy as np\n",
    "from sklearn.impute import SimpleImputer\n",
    "from sklearn.preprocessing import StandardScaler, MinMaxScaler\n",
    "from sklearn.preprocessing import LabelEncoder, OneHotEncoder\n",
    "from sklearn.linear_model import LinearRegression, Ridge, Lasso\n",
    "from sklearn.metrics import mean_squared_error"
   ]
  },
  {
   "cell_type": "markdown",
   "metadata": {},
   "source": [
    "# car_price_train"
   ]
  },
  {
   "cell_type": "code",
   "execution_count": 2,
   "metadata": {},
   "outputs": [
    {
     "name": "stdout",
     "output_type": "stream",
     "text": [
      "Car_Name            NaN\n",
      "Year               2.95\n",
      "Selling_Price      7.74\n",
      "Present_Price     49998\n",
      "Kms_Driven          CNG\n",
      "Fuel_Type        Dealer\n",
      "Seller_Type      Manual\n",
      "Transmission          0\n",
      "Owner               NaN\n",
      "Name: 104, dtype: object\n"
     ]
    }
   ],
   "source": [
    "df_train = pd.read_csv('car_price_train.csv')\n",
    "df_train.head()\n",
    "print(df_train.iloc[104, :]) #Kms_Driver is CNG\n",
    "df_train = df_train.drop([104])\n",
    "# df_train.columns\n",
    "# df_train.shape\n",
    "# df_train['Transmission'].value_counts().count()"
   ]
  },
  {
   "cell_type": "code",
   "execution_count": 3,
   "metadata": {},
   "outputs": [],
   "source": [
    "feature_columns = ['Car_Name', 'Year', 'Present_Price', 'Kms_Driven',\n",
    "       'Fuel_Type', 'Seller_Type', 'Transmission', 'Owner']\n",
    "label_columns = 'Selling_Price'\n",
    "\n",
    "features = df_train.loc[:, feature_columns]\n",
    "label = df_train.loc[:, label_columns]"
   ]
  },
  {
   "cell_type": "code",
   "execution_count": 4,
   "metadata": {},
   "outputs": [],
   "source": [
    "X_train = features.values\n",
    "y_train = label.values"
   ]
  },
  {
   "cell_type": "markdown",
   "metadata": {},
   "source": [
    "# Missing value"
   ]
  },
  {
   "cell_type": "code",
   "execution_count": 5,
   "metadata": {},
   "outputs": [
    {
     "data": {
      "text/plain": [
       "Car_Name         4\n",
       "Year             0\n",
       "Selling_Price    0\n",
       "Present_Price    3\n",
       "Kms_Driven       8\n",
       "Fuel_Type        3\n",
       "Seller_Type      3\n",
       "Transmission     1\n",
       "Owner            0\n",
       "dtype: int64"
      ]
     },
     "execution_count": 5,
     "metadata": {},
     "output_type": "execute_result"
    }
   ],
   "source": [
    "df_train.isnull().sum()"
   ]
  },
  {
   "cell_type": "code",
   "execution_count": 6,
   "metadata": {},
   "outputs": [],
   "source": [
    "car_name_impute = SimpleImputer(np.nan, strategy = 'most_frequent')\n",
    "X_train[:, 0] = car_name_impute.fit_transform(X_train[:, 0].reshape(-1, 1)).ravel()"
   ]
  },
  {
   "cell_type": "code",
   "execution_count": 7,
   "metadata": {},
   "outputs": [],
   "source": [
    "present_price_imputer = SimpleImputer(np.nan, strategy = 'most_frequent')\n",
    "X_train[:, 2] = present_price_imputer.fit_transform(X_train[:, 2].reshape(-1, 1)).ravel()"
   ]
  },
  {
   "cell_type": "code",
   "execution_count": 8,
   "metadata": {},
   "outputs": [],
   "source": [
    "kms_driven_imputer = SimpleImputer(np.nan, strategy = 'mean')\n",
    "X_train[:, 3] = present_price_imputer.fit_transform(X_train[:, 3].reshape(-1, 1)).ravel()"
   ]
  },
  {
   "cell_type": "code",
   "execution_count": 9,
   "metadata": {},
   "outputs": [],
   "source": [
    "value_imputer = SimpleImputer(np.nan, strategy = 'most_frequent')\n",
    "X_train[:, 4:8] = value_imputer.fit_transform(X_train[:, 4:8])"
   ]
  },
  {
   "cell_type": "code",
   "execution_count": 10,
   "metadata": {},
   "outputs": [
    {
     "name": "stdout",
     "output_type": "stream",
     "text": [
      "Car_Name         0\n",
      "Year             0\n",
      "Present_Price    0\n",
      "Kms_Driven       0\n",
      "Fuel_Type        0\n",
      "Seller_Type      0\n",
      "Transmission     0\n",
      "Owner            0\n",
      "dtype: int64\n"
     ]
    },
    {
     "data": {
      "text/html": [
       "<div>\n",
       "<style scoped>\n",
       "    .dataframe tbody tr th:only-of-type {\n",
       "        vertical-align: middle;\n",
       "    }\n",
       "\n",
       "    .dataframe tbody tr th {\n",
       "        vertical-align: top;\n",
       "    }\n",
       "\n",
       "    .dataframe thead th {\n",
       "        text-align: right;\n",
       "    }\n",
       "</style>\n",
       "<table border=\"1\" class=\"dataframe\">\n",
       "  <thead>\n",
       "    <tr style=\"text-align: right;\">\n",
       "      <th></th>\n",
       "      <th>Car_Name</th>\n",
       "      <th>Year</th>\n",
       "      <th>Present_Price</th>\n",
       "      <th>Kms_Driven</th>\n",
       "      <th>Fuel_Type</th>\n",
       "      <th>Seller_Type</th>\n",
       "      <th>Transmission</th>\n",
       "      <th>Owner</th>\n",
       "    </tr>\n",
       "  </thead>\n",
       "  <tbody>\n",
       "    <tr>\n",
       "      <td>0</td>\n",
       "      <td>Bajaj Pulsar 150</td>\n",
       "      <td>2008.0</td>\n",
       "      <td>13.600</td>\n",
       "      <td>15000</td>\n",
       "      <td>Petrol</td>\n",
       "      <td>Dealer</td>\n",
       "      <td>Manual</td>\n",
       "      <td>1.0</td>\n",
       "    </tr>\n",
       "    <tr>\n",
       "      <td>1</td>\n",
       "      <td>Bajaj Avenger 220</td>\n",
       "      <td>2017.0</td>\n",
       "      <td>0.950</td>\n",
       "      <td>3500</td>\n",
       "      <td>Petrol</td>\n",
       "      <td>Individual</td>\n",
       "      <td>Manual</td>\n",
       "      <td>0.0</td>\n",
       "    </tr>\n",
       "    <tr>\n",
       "      <td>2</td>\n",
       "      <td>Hero  CBZ Xtreme</td>\n",
       "      <td>2008.0</td>\n",
       "      <td>0.787</td>\n",
       "      <td>15000</td>\n",
       "      <td>Petrol</td>\n",
       "      <td>Individual</td>\n",
       "      <td>Manual</td>\n",
       "      <td>0.0</td>\n",
       "    </tr>\n",
       "    <tr>\n",
       "      <td>3</td>\n",
       "      <td>etios g</td>\n",
       "      <td>2015.0</td>\n",
       "      <td>6.800</td>\n",
       "      <td>36000</td>\n",
       "      <td>Petrol</td>\n",
       "      <td>Dealer</td>\n",
       "      <td>Manual</td>\n",
       "      <td>0.0</td>\n",
       "    </tr>\n",
       "    <tr>\n",
       "      <td>4</td>\n",
       "      <td>Royal Enfield Thunder 350</td>\n",
       "      <td>2016.0</td>\n",
       "      <td>1.500</td>\n",
       "      <td>8700</td>\n",
       "      <td>Petrol</td>\n",
       "      <td>Individual</td>\n",
       "      <td>Manual</td>\n",
       "      <td>0.0</td>\n",
       "    </tr>\n",
       "  </tbody>\n",
       "</table>\n",
       "</div>"
      ],
      "text/plain": [
       "                    Car_Name    Year  Present_Price Kms_Driven Fuel_Type  \\\n",
       "0           Bajaj Pulsar 150  2008.0         13.600      15000    Petrol   \n",
       "1          Bajaj Avenger 220  2017.0          0.950       3500    Petrol   \n",
       "2           Hero  CBZ Xtreme  2008.0          0.787      15000    Petrol   \n",
       "3                    etios g  2015.0          6.800      36000    Petrol   \n",
       "4  Royal Enfield Thunder 350  2016.0          1.500       8700    Petrol   \n",
       "\n",
       "  Seller_Type Transmission  Owner  \n",
       "0      Dealer       Manual    1.0  \n",
       "1  Individual       Manual    0.0  \n",
       "2  Individual       Manual    0.0  \n",
       "3      Dealer       Manual    0.0  \n",
       "4  Individual       Manual    0.0  "
      ]
     },
     "execution_count": 10,
     "metadata": {},
     "output_type": "execute_result"
    }
   ],
   "source": [
    "features = pd.DataFrame.from_records(X_train, columns = feature_columns)\n",
    "print(features.isnull().sum())\n",
    "features.head()"
   ]
  },
  {
   "cell_type": "markdown",
   "metadata": {},
   "source": [
    "## Normalize"
   ]
  },
  {
   "cell_type": "markdown",
   "metadata": {},
   "source": [
    "###  Year, Kms_Driven"
   ]
  },
  {
   "cell_type": "code",
   "execution_count": 11,
   "metadata": {},
   "outputs": [],
   "source": [
    "minmax_scaler = MinMaxScaler()\n",
    "X_train[:, 1] = minmax_scaler.fit_transform(X_train[:, 1].reshape(-1, 1)).ravel()\n",
    "X_train[:, 3] = minmax_scaler.fit_transform(X_train[:, 3].reshape(-1, 1)).ravel()"
   ]
  },
  {
   "cell_type": "markdown",
   "metadata": {},
   "source": [
    "### Seller_Type"
   ]
  },
  {
   "cell_type": "code",
   "execution_count": 12,
   "metadata": {},
   "outputs": [],
   "source": [
    "# print(df_train['Seller_Type'].value_counts().count())\n",
    "label_encoder = LabelEncoder()\n",
    "X_train[:, 5] = label_encoder.fit_transform(X_train[:, 5])"
   ]
  },
  {
   "cell_type": "markdown",
   "metadata": {},
   "source": [
    "### Transmission"
   ]
  },
  {
   "cell_type": "code",
   "execution_count": 13,
   "metadata": {},
   "outputs": [
    {
     "name": "stdout",
     "output_type": "stream",
     "text": [
      "2\n"
     ]
    }
   ],
   "source": [
    "print(df_train['Transmission'].value_counts().count())\n",
    "label_encoder = LabelEncoder()\n",
    "X_train[:, -2] = label_encoder.fit_transform(X_train[:, -2])\n",
    "\n",
    "# one_hot = OneHotEncoder()\n",
    "# fuel_type = one_hot.fit_transform(X_train[:, -2].reshape(-1, 1)).toarray()\n",
    "# X_train = np.delete(X_train, -2, axis = 1)\n",
    "# X_train = np.concatenate((X_train[:, :-2], fuel_type, X_train[:, -2:]), axis = 1)"
   ]
  },
  {
   "cell_type": "markdown",
   "metadata": {},
   "source": [
    "###  Fuel_Type"
   ]
  },
  {
   "cell_type": "code",
   "execution_count": 14,
   "metadata": {},
   "outputs": [],
   "source": [
    "#  print(df_train['Fuel_Type'].value_counts().count())\n",
    "# label_encoder = LabelEncoder()\n",
    "# X_train[:, 4] = label_encoder.fit_transform(X_train[:, 4])\n",
    "one_hot = OneHotEncoder()\n",
    "fuel_type = one_hot.fit_transform(X_train[:, 4].reshape(-1, 1)).toarray()\n",
    "X_train = np.delete(X_train, 4, axis = 1)\n",
    "X_train = np.concatenate((X_train[:, :4], fuel_type, X_train[:, 4:]), axis = 1)"
   ]
  },
  {
   "cell_type": "code",
   "execution_count": 15,
   "metadata": {},
   "outputs": [],
   "source": [
    "X_train = np.delete(X_train, 0, axis = 1)"
   ]
  },
  {
   "cell_type": "markdown",
   "metadata": {},
   "source": [
    "# car_price_test"
   ]
  },
  {
   "cell_type": "code",
   "execution_count": 16,
   "metadata": {},
   "outputs": [
    {
     "data": {
      "text/plain": [
       "Car_Name         0\n",
       "Year             0\n",
       "Selling_Price    0\n",
       "Present_Price    0\n",
       "Kms_Driven       0\n",
       "Fuel_Type        0\n",
       "Seller_Type      0\n",
       "Transmission     0\n",
       "Owner            0\n",
       "dtype: int64"
      ]
     },
     "execution_count": 16,
     "metadata": {},
     "output_type": "execute_result"
    }
   ],
   "source": [
    "df_test = pd.read_csv('car_price_test.csv')\n",
    "df_test.head()\n",
    "df_test.isnull().sum()"
   ]
  },
  {
   "cell_type": "code",
   "execution_count": 17,
   "metadata": {},
   "outputs": [],
   "source": [
    "features_test = df_train.loc[:, feature_columns]\n",
    "label_test = df_train.loc[:, label_columns]\n",
    "\n",
    "X_test = features.values\n",
    "y_test = label.values"
   ]
  },
  {
   "cell_type": "markdown",
   "metadata": {},
   "source": [
    "## Normalize"
   ]
  },
  {
   "cell_type": "code",
   "execution_count": 18,
   "metadata": {},
   "outputs": [],
   "source": [
    "minmax_scaler = MinMaxScaler()\n",
    "X_test[:, 1] = minmax_scaler.fit_transform(X_test[:, 1].reshape(-1, 1)).ravel()\n",
    "X_test[:, 3] = minmax_scaler.fit_transform(X_test[:, 3].reshape(-1, 1)).ravel()"
   ]
  },
  {
   "cell_type": "code",
   "execution_count": 19,
   "metadata": {},
   "outputs": [],
   "source": [
    "label_encoder = LabelEncoder()\n",
    "X_test[:, 5] = label_encoder.fit_transform(X_test[:, 5])"
   ]
  },
  {
   "cell_type": "code",
   "execution_count": 20,
   "metadata": {},
   "outputs": [],
   "source": [
    "label_encoder = LabelEncoder()\n",
    "X_test[:, -2] = label_encoder.fit_transform(X_test[:, -2])\n",
    "\n",
    "# one_hot = OneHotEncoder()\n",
    "# fuel_type = one_hot.fit_transform(X_test[:, -2].reshape(-1, 1)).toarray()\n",
    "# X_test = np.delete(X_test, -2, axis = 1)\n",
    "# X_test = np.concatenate((X_test[:, :-2], fuel_type, X_test[:, -2:]), axis = 1)"
   ]
  },
  {
   "cell_type": "code",
   "execution_count": 21,
   "metadata": {},
   "outputs": [],
   "source": [
    "# label_encoder = LabelEncoder()\n",
    "# X_test[:, 4] = label_encoder.fit_transform(X_test[:, 4])\n",
    "\n",
    "one_hot = OneHotEncoder()\n",
    "fuel_type = one_hot.fit_transform(X_test[:, 4].reshape(-1, 1)).toarray()\n",
    "X_test = np.delete(X_test, 4, axis = 1)\n",
    "X_test = np.concatenate((X_test[:, :4], fuel_type, X_test[:, 4:]), axis = 1)"
   ]
  },
  {
   "cell_type": "code",
   "execution_count": 22,
   "metadata": {},
   "outputs": [
    {
     "data": {
      "text/plain": [
       "array([[0.3571428571428612, 13.6, 0.029029029029029027, ..., 0, 1, 1.0],\n",
       "       [1.0, 0.95, 0.006006006006006006, ..., 1, 1, 0.0],\n",
       "       [0.3571428571428612, 0.787, 0.029029029029029027, ..., 1, 1, 0.0],\n",
       "       ...,\n",
       "       [0.785714285714306, 3.45, 0.03203203203203203, ..., 1, 1, 1.0],\n",
       "       [0.5714285714285836, 10.0, 0.1378198198198198, ..., 0, 1, 0.0],\n",
       "       [1.0, 1.78, 0.007007007007007007, ..., 1, 1, 0.0]], dtype=object)"
      ]
     },
     "execution_count": 22,
     "metadata": {},
     "output_type": "execute_result"
    }
   ],
   "source": [
    "X_test = np.delete(X_test, 0, axis = 1)\n",
    "X_test"
   ]
  },
  {
   "cell_type": "markdown",
   "metadata": {},
   "source": [
    "# Train model"
   ]
  },
  {
   "cell_type": "markdown",
   "metadata": {},
   "source": [
    "## Linear"
   ]
  },
  {
   "cell_type": "code",
   "execution_count": 23,
   "metadata": {},
   "outputs": [
    {
     "name": "stdout",
     "output_type": "stream",
     "text": [
      "Root Mean Square Error Train: 1.7409686778109805\n",
      "Root Mean Square Error Test: 1.7409686778109805\n"
     ]
    }
   ],
   "source": [
    "linear = LinearRegression()\n",
    "linear.fit(X_train, y_train)\n",
    "\n",
    "predict_train = linear.predict(X_train)\n",
    "print(\"Root Mean Square Error Train: {}\".format(np.sqrt(mean_squared_error(y_train, predict_train))))\n",
    "predict_test = linear.predict(X_test)\n",
    "print(\"Root Mean Square Error Test: {}\".format(np.sqrt(mean_squared_error(y_test, predict_test))))"
   ]
  },
  {
   "cell_type": "markdown",
   "metadata": {},
   "source": [
    "## Rigde"
   ]
  },
  {
   "cell_type": "code",
   "execution_count": 24,
   "metadata": {},
   "outputs": [
    {
     "name": "stdout",
     "output_type": "stream",
     "text": [
      "Root Mean Square Error Train: 1.7409694726810852\n",
      "Root Mean Square Error Test: 1.7409694726810852\n"
     ]
    }
   ],
   "source": [
    "ridge = Ridge(alpha = 0.01)\n",
    "ridge.fit(X_train, y_train)\n",
    "\n",
    "predict_train = ridge.predict(X_train)\n",
    "print(\"Root Mean Square Error Train: {}\".format(np.sqrt(mean_squared_error(y_train, predict_train))))\n",
    "\n",
    "predict_test = ridge.predict(X_test)\n",
    "print(\"Root Mean Square Error Test: {}\".format(np.sqrt(mean_squared_error(y_test, predict_test))))"
   ]
  },
  {
   "cell_type": "markdown",
   "metadata": {},
   "source": [
    "## Lasso"
   ]
  },
  {
   "cell_type": "code",
   "execution_count": 25,
   "metadata": {},
   "outputs": [
    {
     "name": "stdout",
     "output_type": "stream",
     "text": [
      "Root Mean Square Error: 1.7410972321928218\n",
      "Root Mean Square Error: 1.7410972321928218\n"
     ]
    }
   ],
   "source": [
    "lasso = Lasso(alpha = 0.001)\n",
    "lasso.fit(X_train, y_train)\n",
    "\n",
    "predict_train = lasso.predict(X_train)\n",
    "predict_test = lasso.predict(X_test)\n",
    "\n",
    "print(\"Root Mean Square Error: {}\".format(np.sqrt(mean_squared_error(y_train, predict_train))))\n",
    "print(\"Root Mean Square Error: {}\".format(np.sqrt(mean_squared_error(y_test, predict_test))))"
   ]
  },
  {
   "cell_type": "code",
   "execution_count": null,
   "metadata": {},
   "outputs": [],
   "source": []
  }
 ],
 "metadata": {
  "kernelspec": {
   "display_name": "Python 3",
   "language": "python",
   "name": "python3"
  },
  "language_info": {
   "codemirror_mode": {
    "name": "ipython",
    "version": 3
   },
   "file_extension": ".py",
   "mimetype": "text/x-python",
   "name": "python",
   "nbconvert_exporter": "python",
   "pygments_lexer": "ipython3",
   "version": "3.7.4"
  }
 },
 "nbformat": 4,
 "nbformat_minor": 2
}
