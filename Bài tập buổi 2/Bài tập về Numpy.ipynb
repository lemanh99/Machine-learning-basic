{
 "cells": [
  {
   "cell_type": "markdown",
   "metadata": {},
   "source": [
    "# Numpy"
   ]
  },
  {
   "cell_type": "code",
   "execution_count": 1,
   "metadata": {},
   "outputs": [],
   "source": [
    "import numpy as np"
   ]
  },
  {
   "cell_type": "markdown",
   "metadata": {},
   "source": [
    "## Bài 1: Tạo vector 0 với kích thước 10"
   ]
  },
  {
   "cell_type": "code",
   "execution_count": 2,
   "metadata": {},
   "outputs": [
    {
     "data": {
      "text/plain": [
       "array([0., 0., 0., 0., 0., 0., 0., 0., 0., 0.])"
      ]
     },
     "execution_count": 2,
     "metadata": {},
     "output_type": "execute_result"
    }
   ],
   "source": [
    "zero_vector = np.zeros(10)\n",
    "zero_vector"
   ]
  },
  {
   "cell_type": "markdown",
   "metadata": {},
   "source": [
    "## Bài 2: Tạo vector 0 nhưng phần tử thứ 5 của vector bằng 1\n"
   ]
  },
  {
   "cell_type": "code",
   "execution_count": 3,
   "metadata": {},
   "outputs": [
    {
     "data": {
      "text/plain": [
       "array([0., 0., 0., 0., 0., 1., 0., 0., 0., 0.])"
      ]
     },
     "execution_count": 3,
     "metadata": {},
     "output_type": "execute_result"
    }
   ],
   "source": [
    "vector1 = np.zeros(10)\n",
    "vector1[5] = 1\n",
    "vector1"
   ]
  },
  {
   "cell_type": "markdown",
   "metadata": {},
   "source": [
    "## Bài 3: Tạo vector với giá trị các phần tử theo thứ tự nằm trong khoảng từ 10 đến 50\n"
   ]
  },
  {
   "cell_type": "code",
   "execution_count": 4,
   "metadata": {},
   "outputs": [
    {
     "data": {
      "text/plain": [
       "array([10, 11, 12, 13, 14, 15, 16, 17, 18, 19, 20, 21, 22, 23, 24, 25, 26,\n",
       "       27, 28, 29, 30, 31, 32, 33, 34, 35, 36, 37, 38, 39, 40, 41, 42, 43,\n",
       "       44, 45, 46, 47, 48, 49])"
      ]
     },
     "execution_count": 4,
     "metadata": {},
     "output_type": "execute_result"
    }
   ],
   "source": [
    "vector2 = np.arange(10, 50)\n",
    "vector2"
   ]
  },
  {
   "cell_type": "markdown",
   "metadata": {},
   "source": [
    "## Bài 4: Tạo vector và đảo ngược vector đó\n"
   ]
  },
  {
   "cell_type": "code",
   "execution_count": 5,
   "metadata": {},
   "outputs": [
    {
     "name": "stdout",
     "output_type": "stream",
     "text": [
      "[0 1 2 3 4 5 6 7 8 9]\n",
      "[9 8 7 6 5 4 3 2 1 0]\n"
     ]
    }
   ],
   "source": [
    "vector3 = np.arange(10)\n",
    "dao_nguoc_vector3 = vector3[::-1]\n",
    "print(vector3)\n",
    "print(dao_nguoc_vector3)"
   ]
  },
  {
   "cell_type": "markdown",
   "metadata": {},
   "source": [
    "## Bài 5: Tạo ma trận đơn vị kích thước 3x3\n"
   ]
  },
  {
   "cell_type": "code",
   "execution_count": 6,
   "metadata": {},
   "outputs": [
    {
     "data": {
      "text/plain": [
       "array([[1., 0., 0.],\n",
       "       [0., 1., 0.],\n",
       "       [0., 0., 1.]])"
      ]
     },
     "execution_count": 6,
     "metadata": {},
     "output_type": "execute_result"
    }
   ],
   "source": [
    "matrix1 = np.identity(3) #np.eye(3)\n",
    "matrix1"
   ]
  },
  {
   "cell_type": "markdown",
   "metadata": {},
   "source": [
    "## Bài 6: Tạo ma trận kích thước 3x3 với giá trị các phần tử nguyên ngẫu nhiên trong khoảng 1 đến 100\n"
   ]
  },
  {
   "cell_type": "code",
   "execution_count": 7,
   "metadata": {},
   "outputs": [
    {
     "data": {
      "text/plain": [
       "array([[63, 56, 31],\n",
       "       [94, 21, 75],\n",
       "       [24,  4, 97]])"
      ]
     },
     "execution_count": 7,
     "metadata": {},
     "output_type": "execute_result"
    }
   ],
   "source": [
    "matrix2 = np.random.randint(low = 1, high= 100, size = (3, 3))\n",
    "matrix2"
   ]
  },
  {
   "cell_type": "markdown",
   "metadata": {},
   "source": [
    "## Bài 7: Tạo ma trận 10x10 với giá trị các phần tử nguyên ngẫu nhiên trong khoảng 1 đến 100 sau đó tìm giá trị nhỏ nhất và lớn nhất\n"
   ]
  },
  {
   "cell_type": "code",
   "execution_count": 8,
   "metadata": {},
   "outputs": [
    {
     "name": "stdout",
     "output_type": "stream",
     "text": [
      "[[63 56 31]\n",
      " [94 21 75]\n",
      " [24  4 97]]\n",
      "Min :  1\n",
      "Max :  99\n"
     ]
    }
   ],
   "source": [
    "matrix3 = np.random.randint(low = 1, high= 100, size = (10, 10))\n",
    "min_matrix1, max_matrix1 = np.amin(matrix3), np.amax(matrix3)\n",
    "print(matrix2)\n",
    "print('Min : ', min_matrix1)\n",
    "print('Max : ', max_matrix1)"
   ]
  },
  {
   "cell_type": "markdown",
   "metadata": {},
   "source": [
    "## Tạo một vector kích thước 30 với các giá trị phần tử nguyên ngẫu nhiên trong khoảng 1 đến 100. Sau đó tính trung bình"
   ]
  },
  {
   "cell_type": "code",
   "execution_count": 9,
   "metadata": {},
   "outputs": [
    {
     "data": {
      "text/plain": [
       "44.56666666666667"
      ]
     },
     "execution_count": 9,
     "metadata": {},
     "output_type": "execute_result"
    }
   ],
   "source": [
    "vector4 = np.random.randint(low = 1, high = 100, size = 30)\n",
    "mean_vector4 = vector4.mean()\n",
    "mean_vector4"
   ]
  },
  {
   "cell_type": "markdown",
   "metadata": {},
   "source": [
    "## Bài 9: Tạo ma trận 2 chiều với các giá trị các phần tử tại các cạnh của ma trận là 1. Các phần tử nằm bên trong bằng 0\n"
   ]
  },
  {
   "cell_type": "code",
   "execution_count": 10,
   "metadata": {},
   "outputs": [
    {
     "data": {
      "text/plain": [
       "array([[1., 1., 1., 1., 1.],\n",
       "       [1., 0., 0., 0., 1.],\n",
       "       [1., 0., 0., 0., 1.],\n",
       "       [1., 0., 0., 0., 1.],\n",
       "       [1., 1., 1., 1., 1.]])"
      ]
     },
     "execution_count": 10,
     "metadata": {},
     "output_type": "execute_result"
    }
   ],
   "source": [
    "matrix4 = np.zeros((5, 5))\n",
    "matrix4[0, :], matrix4[-1, :], matrix4[:, 0], matrix4[:, -1] = 1, 1, 1, 1\n",
    "matrix4"
   ]
  },
  {
   "cell_type": "markdown",
   "metadata": {},
   "source": [
    "## Bài 10: Cho một ma trận kích thước tùy ý. Thêm border(cạnh viền giá trị bằng 0) bao xung quanh ma trận. (Note: Thêm vào chứ không ghì đè)\n"
   ]
  },
  {
   "cell_type": "code",
   "execution_count": 11,
   "metadata": {},
   "outputs": [
    {
     "name": "stdout",
     "output_type": "stream",
     "text": [
      "(10, 7)\n"
     ]
    },
    {
     "data": {
      "text/plain": [
       "array([[ 0.,  0.,  0.,  0.,  0.,  0.,  0.,  0.,  0.],\n",
       "       [ 0., 29., 85., 95., 89., 72., 74., 58.,  0.],\n",
       "       [ 0., 98., 70., 80., 43., 84., 13., 75.,  0.],\n",
       "       [ 0., 66., 41., 84., 49., 78., 76.,  8.,  0.],\n",
       "       [ 0., 47.,  1., 24., 14., 13., 10., 91.,  0.],\n",
       "       [ 0., 94., 25., 12., 55., 68., 40., 33.,  0.],\n",
       "       [ 0.,  7., 67., 94., 22., 14., 99., 36.,  0.],\n",
       "       [ 0., 82., 39., 32., 55., 97., 35., 67.,  0.],\n",
       "       [ 0., 28., 92., 46., 43.,  1., 46., 50.,  0.],\n",
       "       [ 0., 54.,  4., 25., 92., 70., 48., 28.,  0.],\n",
       "       [ 0., 49.,  1., 98., 57., 64., 84., 76.,  0.],\n",
       "       [ 0.,  0.,  0.,  0.,  0.,  0.,  0.,  0.,  0.]])"
      ]
     },
     "execution_count": 11,
     "metadata": {},
     "output_type": "execute_result"
    }
   ],
   "source": [
    "matrix5 = np.random.randint(low = 1, high= 100, size = (10, 7))\n",
    "print(matrix5.shape)\n",
    "zero_row = np.zeros((1, matrix5.shape[1]))\n",
    "matrix5 = np.concatenate((zero_row, matrix5, zero_row), axis=0)\n",
    "\n",
    "zero_col =  np.zeros((matrix5.shape[0], 1))\n",
    "matrix5 = np.concatenate((zero_col, matrix5, zero_col), axis=1)\n",
    "matrix5"
   ]
  },
  {
   "cell_type": "markdown",
   "metadata": {},
   "source": [
    "## Bài 11: Tạo ma trận 0 kích thước 5x5.Với các phần tử nằm dưới đường chéo chính bằng 1, 2, 3, 4\n"
   ]
  },
  {
   "cell_type": "code",
   "execution_count": 12,
   "metadata": {},
   "outputs": [
    {
     "data": {
      "text/plain": [
       "array([[0, 0, 0, 0, 0],\n",
       "       [0, 1, 0, 0, 0],\n",
       "       [0, 0, 2, 0, 0],\n",
       "       [0, 0, 0, 3, 0],\n",
       "       [0, 0, 0, 0, 4]])"
      ]
     },
     "execution_count": 12,
     "metadata": {},
     "output_type": "execute_result"
    }
   ],
   "source": [
    "matrix6 = np.diag(np.arange(0, 5))\n",
    "matrix6"
   ]
  },
  {
   "cell_type": "markdown",
   "metadata": {},
   "source": [
    "## Bài 12: Tạo vector kích thước 10 sau đó sắp xếp tăng và giảm dần"
   ]
  },
  {
   "cell_type": "code",
   "execution_count": 13,
   "metadata": {},
   "outputs": [
    {
     "name": "stdout",
     "output_type": "stream",
     "text": [
      "[27 79  6 17 75 46 55 19 22 57]\n",
      "[ 6 17 19 22 27 46 55 57 75 79]\n",
      "[79 75 57 55 46 27 22 19 17  6]\n"
     ]
    }
   ],
   "source": [
    "vector5 = np.random.randint(low = 1, high = 100, size = 10)\n",
    "tangdan = np.sort(vector5)\n",
    "giamdan = tangdan[::-1]\n",
    "print(vector5)\n",
    "print(tangdan)\n",
    "print(giamdan)"
   ]
  },
  {
   "cell_type": "markdown",
   "metadata": {},
   "source": [
    "## Bài 13: Tạo vector kích thước 10 với giá trị nằm trong khoảng từ 0 đến 1"
   ]
  },
  {
   "cell_type": "code",
   "execution_count": 14,
   "metadata": {},
   "outputs": [
    {
     "data": {
      "text/plain": [
       "array([0.4065267 , 0.77383658, 0.07793868, 0.76888819, 0.26565375,\n",
       "       0.81301198, 0.26732163, 0.96164454, 0.21350911, 0.64484393])"
      ]
     },
     "execution_count": 14,
     "metadata": {},
     "output_type": "execute_result"
    }
   ],
   "source": [
    "vector6 = np.random.random(size = 10)\n",
    "vector6"
   ]
  },
  {
   "cell_type": "code",
   "execution_count": null,
   "metadata": {},
   "outputs": [],
   "source": []
  }
 ],
 "metadata": {
  "kernelspec": {
   "display_name": "Python 3",
   "language": "python",
   "name": "python3"
  },
  "language_info": {
   "codemirror_mode": {
    "name": "ipython",
    "version": 3
   },
   "file_extension": ".py",
   "mimetype": "text/x-python",
   "name": "python",
   "nbconvert_exporter": "python",
   "pygments_lexer": "ipython3",
   "version": "3.7.4"
  }
 },
 "nbformat": 4,
 "nbformat_minor": 2
}
