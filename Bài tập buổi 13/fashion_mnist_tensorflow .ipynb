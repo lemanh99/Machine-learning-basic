{
  "nbformat": 4,
  "nbformat_minor": 0,
  "metadata": {
    "colab": {
      "name": "fashion_mnist_tensorflow.ipynb",
      "provenance": [],
      "collapsed_sections": [],
      "toc_visible": true
    },
    "kernelspec": {
      "display_name": "Python 3",
      "name": "python3"
    },
    "accelerator": "GPU"
  },
  "cells": [
    {
      "cell_type": "code",
      "metadata": {
        "id": "nbCqLksk9wSk",
        "colab_type": "code",
        "colab": {}
      },
      "source": [
        "import tensorflow as tf\n",
        "import matplotlib.pyplot as plt\n",
        "import numpy as np\n",
        "from tensorflow.keras.datasets import fashion_mnist"
      ],
      "execution_count": 0,
      "outputs": []
    },
    {
      "cell_type": "code",
      "metadata": {
        "id": "lINlNd6A99t-",
        "colab_type": "code",
        "colab": {}
      },
      "source": [
        "# read the dataset\n",
        "(x_train, y_train), (x_test, y_test) = fashion_mnist.load_data()"
      ],
      "execution_count": 0,
      "outputs": []
    },
    {
      "cell_type": "code",
      "metadata": {
        "id": "3ErqUH5A-M2q",
        "colab_type": "code",
        "outputId": "cb69b980-a78d-47dc-9629-a8f9bbdad94d",
        "colab": {
          "base_uri": "https://localhost:8080/",
          "height": 251
        }
      },
      "source": [
        "# visualization\n",
        "plt.figure(figsize=(10, 10))\n",
        "for i in range(10):\n",
        "  plt.subplot(5, 5, i + 1)\n",
        "  plt.xticks([])\n",
        "  plt.yticks([])\n",
        "  plt.imshow(x_train[i])\n",
        "  plt.xlabel(y_train[i])\n",
        "\n",
        "plt.show()"
      ],
      "execution_count": 3,
      "outputs": [
        {
          "output_type": "display_data",
          "data": {
            "image/png": "[encoded data removed]",
            "text/plain": [
              "<Figure size 720x720 with 10 Axes>"
            ]
          },
          "metadata": {
            "tags": []
          }
        }
      ]
    },
    {
      "cell_type": "code",
      "metadata": {
        "id": "YXR7_apz-0ZG",
        "colab_type": "code",
        "colab": {}
      },
      "source": [
        "# nomalization\n",
        "x_train = x_train / 255.0\n",
        "x_test = x_test / 255.0"
      ],
      "execution_count": 0,
      "outputs": []
    },
    {
      "cell_type": "code",
      "metadata": {
        "id": "L7wSa11Qlhj_",
        "colab_type": "code",
        "colab": {}
      },
      "source": [
        ""
      ],
      "execution_count": 0,
      "outputs": []
    },
    {
      "cell_type": "code",
      "metadata": {
        "id": "P-G4v88p-80X",
        "colab_type": "code",
        "colab": {
          "base_uri": "https://localhost:8080/",
          "height": 34
        },
        "outputId": "5284b611-b960-48f1-c809-67149d7fd5d0"
      },
      "source": [
        "x_train.shape\n",
        "height, width = x_train.shape[1:]\n",
        "num_labels = len(np.unique(y_train))\n",
        "num_labels"
      ],
      "execution_count": 17,
      "outputs": [
        {
          "output_type": "execute_result",
          "data": {
            "text/plain": [
              "10"
            ]
          },
          "metadata": {
            "tags": []
          },
          "execution_count": 17
        }
      ]
    },
    {
      "cell_type": "code",
      "metadata": {
        "id": "t-gVj2Dh_SV8",
        "colab_type": "code",
        "outputId": "bd9a0541-b28a-4d4f-d9dc-91e79dc627bc",
        "colab": {
          "base_uri": "https://localhost:8080/",
          "height": 286
        }
      },
      "source": [
        "from tensorflow.keras.models import Sequential\n",
        "from tensorflow.keras import layers\n",
        "\n",
        "# Build neural network\n",
        "model = Sequential([\n",
        "    layers.Flatten(input_shape=(height, width)),\n",
        "\n",
        "    layers.Dense(units=256, activation='relu'),\n",
        "    layers.Dense(units=64, activation='relu'),\n",
        "    layers.Dense(units=num_labels, activation='softmax')\n",
        "]) \n",
        "\n",
        "model.summary()"
      ],
      "execution_count": 30,
      "outputs": [
        {
          "output_type": "stream",
          "text": [
            "Model: \"sequential_4\"\n",
            "_________________________________________________________________\n",
            "Layer (type)                 Output Shape              Param #   \n",
            "=================================================================\n",
            "flatten_4 (Flatten)          (None, 784)               0         \n",
            "_________________________________________________________________\n",
            "dense_16 (Dense)             (None, 256)               200960    \n",
            "_________________________________________________________________\n",
            "dense_17 (Dense)             (None, 64)                16448     \n",
            "_________________________________________________________________\n",
            "dense_18 (Dense)             (None, 10)                650       \n",
            "=================================================================\n",
            "Total params: 218,058\n",
            "Trainable params: 218,058\n",
            "Non-trainable params: 0\n",
            "_________________________________________________________________\n"
          ],
          "name": "stdout"
        }
      ]
    },
    {
      "cell_type": "code",
      "metadata": {
        "id": "fX_Jy3TdAxqA",
        "colab_type": "code",
        "colab": {}
      },
      "source": [
        "model.compile(optimizer='sgd', loss='sparse_categorical_crossentropy', metrics=['accuracy'])"
      ],
      "execution_count": 0,
      "outputs": []
    },
    {
      "cell_type": "code",
      "metadata": {
        "id": "CsLcSFYfBHmF",
        "colab_type": "code",
        "outputId": "5ff6b1cd-685d-48ef-e5e7-8e080b05b145",
        "colab": {
          "base_uri": "https://localhost:8080/",
          "height": 689
        }
      },
      "source": [
        "epochs = 20\n",
        "history = model.fit(x_train, y_train, epochs=epochs, batch_size=16, validation_data=(x_test, y_test))"
      ],
      "execution_count": 32,
      "outputs": [
        {
          "output_type": "stream",
          "text": [
            "Epoch 1/20\n",
            "3750/3750 [==============================] - 10s 3ms/step - loss: 0.6189 - accuracy: 0.7885 - val_loss: 0.5011 - val_accuracy: 0.8231\n",
            "Epoch 2/20\n",
            "3750/3750 [==============================] - 10s 3ms/step - loss: 0.4406 - accuracy: 0.8449 - val_loss: 0.4334 - val_accuracy: 0.8456\n",
            "Epoch 3/20\n",
            "3750/3750 [==============================] - 10s 3ms/step - loss: 0.3968 - accuracy: 0.8595 - val_loss: 0.4386 - val_accuracy: 0.8449\n",
            "Epoch 4/20\n",
            "3750/3750 [==============================] - 10s 3ms/step - loss: 0.3697 - accuracy: 0.8682 - val_loss: 0.3942 - val_accuracy: 0.8577\n",
            "Epoch 5/20\n",
            "3750/3750 [==============================] - 10s 3ms/step - loss: 0.3497 - accuracy: 0.8741 - val_loss: 0.3939 - val_accuracy: 0.8594\n",
            "Epoch 6/20\n",
            "3750/3750 [==============================] - 10s 3ms/step - loss: 0.3338 - accuracy: 0.8800 - val_loss: 0.3974 - val_accuracy: 0.8551\n",
            "Epoch 7/20\n",
            "3750/3750 [==============================] - 10s 3ms/step - loss: 0.3201 - accuracy: 0.8842 - val_loss: 0.3734 - val_accuracy: 0.8665\n",
            "Epoch 8/20\n",
            "3750/3750 [==============================] - 10s 3ms/step - loss: 0.3073 - accuracy: 0.8878 - val_loss: 0.3531 - val_accuracy: 0.8714\n",
            "Epoch 9/20\n",
            "3750/3750 [==============================] - 10s 3ms/step - loss: 0.2976 - accuracy: 0.8915 - val_loss: 0.3530 - val_accuracy: 0.8718\n",
            "Epoch 10/20\n",
            "3750/3750 [==============================] - 10s 3ms/step - loss: 0.2878 - accuracy: 0.8942 - val_loss: 0.3460 - val_accuracy: 0.8773\n",
            "Epoch 11/20\n",
            "3750/3750 [==============================] - 10s 3ms/step - loss: 0.2794 - accuracy: 0.8987 - val_loss: 0.3506 - val_accuracy: 0.8722\n",
            "Epoch 12/20\n",
            "3750/3750 [==============================] - 10s 3ms/step - loss: 0.2709 - accuracy: 0.9023 - val_loss: 0.3352 - val_accuracy: 0.8778\n",
            "Epoch 13/20\n",
            "3750/3750 [==============================] - 10s 3ms/step - loss: 0.2647 - accuracy: 0.9031 - val_loss: 0.3348 - val_accuracy: 0.8756\n",
            "Epoch 14/20\n",
            "3750/3750 [==============================] - 10s 3ms/step - loss: 0.2564 - accuracy: 0.9064 - val_loss: 0.3295 - val_accuracy: 0.8815\n",
            "Epoch 15/20\n",
            "3750/3750 [==============================] - 10s 3ms/step - loss: 0.2505 - accuracy: 0.9087 - val_loss: 0.3295 - val_accuracy: 0.8821\n",
            "Epoch 16/20\n",
            "3750/3750 [==============================] - 10s 3ms/step - loss: 0.2449 - accuracy: 0.9101 - val_loss: 0.3223 - val_accuracy: 0.8859\n",
            "Epoch 17/20\n",
            "3750/3750 [==============================] - 10s 3ms/step - loss: 0.2376 - accuracy: 0.9146 - val_loss: 0.3246 - val_accuracy: 0.8864\n",
            "Epoch 18/20\n",
            "3750/3750 [==============================] - 10s 3ms/step - loss: 0.2336 - accuracy: 0.9150 - val_loss: 0.3297 - val_accuracy: 0.8834\n",
            "Epoch 19/20\n",
            "3750/3750 [==============================] - 10s 3ms/step - loss: 0.2282 - accuracy: 0.9162 - val_loss: 0.3273 - val_accuracy: 0.8850\n",
            "Epoch 20/20\n",
            "3750/3750 [==============================] - 10s 3ms/step - loss: 0.2220 - accuracy: 0.9190 - val_loss: 0.3524 - val_accuracy: 0.8725\n"
          ],
          "name": "stdout"
        }
      ]
    },
    {
      "cell_type": "code",
      "metadata": {
        "id": "KSE5XlnxBqU_",
        "colab_type": "code",
        "outputId": "015bd4e9-dbd7-45f4-b974-fbffe48df9e7",
        "colab": {
          "base_uri": "https://localhost:8080/",
          "height": 50
        }
      },
      "source": [
        "accuracy = model.evaluate(x_test, y_test)\n",
        "print('Accuracy', accuracy)"
      ],
      "execution_count": 33,
      "outputs": [
        {
          "output_type": "stream",
          "text": [
            "313/313 [==============================] - 1s 2ms/step - loss: 0.3524 - accuracy: 0.8725\n",
            "Accuracy [0.3524259626865387, 0.8725000023841858]\n"
          ],
          "name": "stdout"
        }
      ]
    },
    {
      "cell_type": "code",
      "metadata": {
        "id": "jbStFhsfloGG",
        "colab_type": "code",
        "colab": {}
      },
      "source": [
        ""
      ],
      "execution_count": 0,
      "outputs": []
    }
  ]
}