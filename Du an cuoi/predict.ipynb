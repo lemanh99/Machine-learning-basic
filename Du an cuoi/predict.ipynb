{
  "nbformat": 4,
  "nbformat_minor": 0,
  "metadata": {
    "colab": {
      "name": "predict.ipynb",
      "provenance": [],
      "collapsed_sections": []
    },
    "kernelspec": {
      "name": "python3",
      "display_name": "Python 3"
    },
    "accelerator": "GPU"
  },
  "cells": [
    {
      "cell_type": "code",
      "metadata": {
        "id": "rFGcR52237Dc",
        "colab_type": "code",
        "colab": {}
      },
      "source": [
        "from __future__ import print_function\n",
        "from sklearn.datasets import fetch_openml\n",
        "import numpy as np\n",
        "np.random.seed(44)"
      ],
      "execution_count": 0,
      "outputs": []
    },
    {
      "cell_type": "code",
      "metadata": {
        "id": "vtRIw63Q4Blx",
        "colab_type": "code",
        "colab": {}
      },
      "source": [
        "data_dir = './data'\n",
        "mnist = fetch_openml('mnist_784', version=1, data_home = data_dir)"
      ],
      "execution_count": 0,
      "outputs": []
    },
    {
      "cell_type": "code",
      "metadata": {
        "id": "9yv-oyN74EXR",
        "colab_type": "code",
        "colab": {
          "base_uri": "https://localhost:8080/",
          "height": 34
        },
        "outputId": "c2b35e09-434a-4d7d-bb21-08965a398d14"
      },
      "source": [
        "len(np.unique(mnist.target))"
      ],
      "execution_count": 3,
      "outputs": [
        {
          "output_type": "execute_result",
          "data": {
            "text/plain": [
              "10"
            ]
          },
          "metadata": {
            "tags": []
          },
          "execution_count": 3
        }
      ]
    },
    {
      "cell_type": "markdown",
      "metadata": {
        "id": "ZzwAWNfH8tWM",
        "colab_type": "text"
      },
      "source": [
        ""
      ]
    },
    {
      "cell_type": "code",
      "metadata": {
        "id": "YIpajo6b4Gdt",
        "colab_type": "code",
        "colab": {}
      },
      "source": [
        "from sklearn.svm import SVC\n",
        "\n",
        "K = len(np.unique(mnist.target))\n",
        "\n",
        "X = mnist.data\n",
        "y = mnist.target"
      ],
      "execution_count": 0,
      "outputs": []
    },
    {
      "cell_type": "code",
      "metadata": {
        "id": "rNx2m-6j4OIH",
        "colab_type": "code",
        "colab": {}
      },
      "source": [
        "# scaling the features\n",
        "# from sklearn.preprocessing import scale\n",
        "# X_scaled = scale(X)\n",
        "\n",
        "# train test split\n",
        "from sklearn.model_selection import train_test_split\n",
        "X_train, X_test, y_train, y_test = train_test_split(X, y, test_size = 0.3, train_size = 0.2 ,random_state = 10)\n"
      ],
      "execution_count": 0,
      "outputs": []
    },
    {
      "cell_type": "code",
      "metadata": {
        "id": "KUZFi5nS4Ou3",
        "colab_type": "code",
        "colab": {
          "base_uri": "https://localhost:8080/",
          "height": 84
        },
        "outputId": "050c04ec-a9c1-4bca-df23-b9754a45ba6d"
      },
      "source": [
        "# linear model\n",
        "\n",
        "model_linear = SVC(kernel='rbf')\n",
        "model_linear.fit(X_train, y_train)\n",
        "\n"
      ],
      "execution_count": 32,
      "outputs": [
        {
          "output_type": "execute_result",
          "data": {
            "text/plain": [
              "SVC(C=1.0, break_ties=False, cache_size=200, class_weight=None, coef0=0.0,\n",
              "    decision_function_shape='ovr', degree=3, gamma='scale', kernel='rbf',\n",
              "    max_iter=-1, probability=False, random_state=None, shrinking=True,\n",
              "    tol=0.001, verbose=False)"
            ]
          },
          "metadata": {
            "tags": []
          },
          "execution_count": 32
        }
      ]
    },
    {
      "cell_type": "code",
      "metadata": {
        "id": "Q1HinWbCruQW",
        "colab_type": "code",
        "colab": {}
      },
      "source": [
        "# predict\n",
        "y_pred = model_linear.predict(X_test)"
      ],
      "execution_count": 0,
      "outputs": []
    },
    {
      "cell_type": "code",
      "metadata": {
        "id": "qV_DhHzf4Rqb",
        "colab_type": "code",
        "colab": {
          "base_uri": "https://localhost:8080/",
          "height": 218
        },
        "outputId": "b610fce2-c8ef-44fd-960d-6dc4c24978ed"
      },
      "source": [
        "# confusion matrix and accuracy\n",
        "\n",
        "from sklearn import metrics\n",
        "from sklearn.metrics import confusion_matrix\n",
        "# accuracy\n",
        "print(\"accuracy:\", metrics.accuracy_score(y_true=y_test, y_pred=y_pred), \"\\n\")\n",
        "\n",
        "# cm\n",
        "print(metrics.confusion_matrix(y_true=y_test, y_pred=y_pred))"
      ],
      "execution_count": 34,
      "outputs": [
        {
          "output_type": "stream",
          "text": [
            "accuracy: 0.9644285714285714 \n",
            "\n",
            "[[2087    0    4    0    1    3    8    1    5    3]\n",
            " [   0 2260    9    4    2    2    2    1    3    1]\n",
            " [  15    4 2028    7    9    7    7   17   21    2]\n",
            " [   2    3   24 2059    2   29    3   17   19    2]\n",
            " [   5    2   11    0 1967    0    9    4    1   39]\n",
            " [   4   10    8   31    5 1790   16    1   14    2]\n",
            " [   5    5    6    0    4   19 1968    0    2    0]\n",
            " [   3   12   14    0   21    0    0 2161    6   36]\n",
            " [   6   15   14   18   10   17   13    2 1956    6]\n",
            " [   9    4    6   18   38    7    0   18   12 1977]]\n"
          ],
          "name": "stdout"
        }
      ]
    },
    {
      "cell_type": "code",
      "metadata": {
        "id": "axEDa2C6o9rE",
        "colab_type": "code",
        "colab": {}
      },
      "source": [
        "import pickle\n",
        "def save_model(model, model_path = './model/model.pkl'):\n",
        "  with open(model_path, 'wb') as f:\n",
        "    pickle.dump(model, f)"
      ],
      "execution_count": 0,
      "outputs": []
    },
    {
      "cell_type": "code",
      "metadata": {
        "id": "fJtPj5c-ttGq",
        "colab_type": "code",
        "colab": {}
      },
      "source": [
        "def load_model(model_path = './model/model.pkl'):\n",
        "  with open(model_path, 'rb') as f:\n",
        "    model = pickle.load(f)\n",
        "  return model"
      ],
      "execution_count": 0,
      "outputs": []
    },
    {
      "cell_type": "code",
      "metadata": {
        "id": "x9tyvCYLuEqs",
        "colab_type": "code",
        "colab": {}
      },
      "source": [
        "save_model(model_linear)"
      ],
      "execution_count": 0,
      "outputs": []
    },
    {
      "cell_type": "code",
      "metadata": {
        "id": "00GBlWNIuKmr",
        "colab_type": "code",
        "colab": {}
      },
      "source": [
        "model = load_model()"
      ],
      "execution_count": 0,
      "outputs": []
    },
    {
      "cell_type": "code",
      "metadata": {
        "id": "Crce0MkSCeJO",
        "colab_type": "code",
        "colab": {}
      },
      "source": [
        "import cv2\n",
        "image = cv2.imread('image.png', cv2.IMREAD_GRAYSCALE)\n",
        "image = cv2.resize(image, (28,28))\n",
        "# image = 255-image\n",
        "# image = image/255.0\n",
        "image= image.reshape(1, -1)"
      ],
      "execution_count": 0,
      "outputs": []
    },
    {
      "cell_type": "code",
      "metadata": {
        "id": "2kXoofoFwerS",
        "colab_type": "code",
        "colab": {
          "base_uri": "https://localhost:8080/",
          "height": 34
        },
        "outputId": "b8884ce9-8383-4213-d457-40e86c53735f"
      },
      "source": [
        "y_pred = model.predict(image)\n",
        "y_pred"
      ],
      "execution_count": 106,
      "outputs": [
        {
          "output_type": "execute_result",
          "data": {
            "text/plain": [
              "array(['2'], dtype=object)"
            ]
          },
          "metadata": {
            "tags": []
          },
          "execution_count": 106
        }
      ]
    },
    {
      "cell_type": "code",
      "metadata": {
        "id": "MqLxLEm-xzOJ",
        "colab_type": "code",
        "colab": {}
      },
      "source": [
        ""
      ],
      "execution_count": 0,
      "outputs": []
    }
  ]
}